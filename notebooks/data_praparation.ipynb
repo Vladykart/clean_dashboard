{
 "cells": [
  {
   "cell_type": "code",
   "execution_count": 89,
   "metadata": {
    "collapsed": true
   },
   "outputs": [],
   "source": [
    "import pandas as pd\n",
    "from pprint import pprint\n",
    "from settings.settings import ROOT_DIR, LOCAL_DATA_PATH"
   ]
  },
  {
   "cell_type": "code",
   "execution_count": 90,
   "outputs": [],
   "source": [
    "def read_excel_data(filename):\n",
    "    df = pd.read_excel(filename,converters= {'date': pd.to_datetime})\n",
    "        # LOCAL_DATA_PATH.joinpath(filename),\n",
    "        #                converters= {'date': pd.to_datetime})\n",
    "    return df\n",
    "\n",
    "\n",
    "def prepare_data(df):\n",
    "    df[['lat', 'long']] = list(\n",
    "        df['coordinates'].str.replace(r'[()]', '', regex=True).str.split(','))\n",
    "    df = df.drop(['coordinates'], axis=1)\n",
    "    df[['lat', 'long']] = df[['lat', 'long']].astype('float64')\n",
    "    lowercase = lambda x: str(x).lower()\n",
    "    df.rename(lowercase, axis='columns', inplace=True)\n",
    "    df['region'] = df['region'].apply(lowercase)\n",
    "    return df\n",
    "\n",
    "\n",
    "def group_data(df):\n",
    "    return df.groupby(by=['region', 'site', 'date'])\n",
    "\n"
   ],
   "metadata": {
    "collapsed": false,
    "pycharm": {
     "name": "#%%\n"
    }
   }
  },
  {
   "cell_type": "code",
   "execution_count": 91,
   "outputs": [],
   "source": [
    "data = read_excel_data(LOCAL_DATA_PATH.joinpath('mart_operative_forecasting_results.xlsx'))\n",
    "data = prepare_data(data)\n",
    "grouped_data = group_data(data)\n"
   ],
   "metadata": {
    "collapsed": false,
    "pycharm": {
     "name": "#%%\n"
    }
   }
  },
  {
   "cell_type": "code",
   "execution_count": 92,
   "outputs": [
    {
     "data": {
      "text/plain": "                          yeild       lat      long\nsite        date                                   \nAfanasiivka 2022-01-01   2805.0  47.00201  32.82572\n            2022-01-02  26159.0  47.00201  32.82572\n            2022-01-03   7026.0  47.00201  32.82572\n            2022-01-04  34985.0  47.00201  32.82572\n            2022-01-05  27554.0  47.00201  32.82572\n...                         ...       ...       ...\nYelanets-2  2022-01-09    694.0  47.70700  31.84680\n            2022-01-10   2054.0  47.70700  31.84680\n            2022-01-11      0.0  47.70700  31.84680\n            2022-01-12      0.0  47.70700  31.84680\n            2022-01-13      0.0  47.70700  31.84680\n\n[611 rows x 3 columns]",
      "text/html": "<div>\n<style scoped>\n    .dataframe tbody tr th:only-of-type {\n        vertical-align: middle;\n    }\n\n    .dataframe tbody tr th {\n        vertical-align: top;\n    }\n\n    .dataframe thead th {\n        text-align: right;\n    }\n</style>\n<table border=\"1\" class=\"dataframe\">\n  <thead>\n    <tr style=\"text-align: right;\">\n      <th></th>\n      <th></th>\n      <th>yeild</th>\n      <th>lat</th>\n      <th>long</th>\n    </tr>\n    <tr>\n      <th>site</th>\n      <th>date</th>\n      <th></th>\n      <th></th>\n      <th></th>\n    </tr>\n  </thead>\n  <tbody>\n    <tr>\n      <th rowspan=\"5\" valign=\"top\">Afanasiivka</th>\n      <th>2022-01-01</th>\n      <td>2805.0</td>\n      <td>47.00201</td>\n      <td>32.82572</td>\n    </tr>\n    <tr>\n      <th>2022-01-02</th>\n      <td>26159.0</td>\n      <td>47.00201</td>\n      <td>32.82572</td>\n    </tr>\n    <tr>\n      <th>2022-01-03</th>\n      <td>7026.0</td>\n      <td>47.00201</td>\n      <td>32.82572</td>\n    </tr>\n    <tr>\n      <th>2022-01-04</th>\n      <td>34985.0</td>\n      <td>47.00201</td>\n      <td>32.82572</td>\n    </tr>\n    <tr>\n      <th>2022-01-05</th>\n      <td>27554.0</td>\n      <td>47.00201</td>\n      <td>32.82572</td>\n    </tr>\n    <tr>\n      <th>...</th>\n      <th>...</th>\n      <td>...</td>\n      <td>...</td>\n      <td>...</td>\n    </tr>\n    <tr>\n      <th rowspan=\"5\" valign=\"top\">Yelanets-2</th>\n      <th>2022-01-09</th>\n      <td>694.0</td>\n      <td>47.70700</td>\n      <td>31.84680</td>\n    </tr>\n    <tr>\n      <th>2022-01-10</th>\n      <td>2054.0</td>\n      <td>47.70700</td>\n      <td>31.84680</td>\n    </tr>\n    <tr>\n      <th>2022-01-11</th>\n      <td>0.0</td>\n      <td>47.70700</td>\n      <td>31.84680</td>\n    </tr>\n    <tr>\n      <th>2022-01-12</th>\n      <td>0.0</td>\n      <td>47.70700</td>\n      <td>31.84680</td>\n    </tr>\n    <tr>\n      <th>2022-01-13</th>\n      <td>0.0</td>\n      <td>47.70700</td>\n      <td>31.84680</td>\n    </tr>\n  </tbody>\n</table>\n<p>611 rows × 3 columns</p>\n</div>"
     },
     "execution_count": 92,
     "metadata": {},
     "output_type": "execute_result"
    }
   ],
   "source": [
    "\n",
    "map_data = data.groupby(by =['site', 'date']).agg({'yeild':'sum', 'lat':'first', 'long':'first'})\n",
    "map_data"
   ],
   "metadata": {
    "collapsed": false,
    "pycharm": {
     "name": "#%%\n"
    }
   }
  },
  {
   "cell_type": "code",
   "execution_count": 93,
   "outputs": [
    {
     "data": {
      "text/plain": "            site       date    yeild       lat      long\n0    Afanasiivka 2022-01-01   2805.0  47.00201  32.82572\n1    Afanasiivka 2022-01-02  26159.0  47.00201  32.82572\n2    Afanasiivka 2022-01-03   7026.0  47.00201  32.82572\n3    Afanasiivka 2022-01-04  34985.0  47.00201  32.82572\n4    Afanasiivka 2022-01-05  27554.0  47.00201  32.82572\n..           ...        ...      ...       ...       ...\n606   Yelanets-2 2022-01-09    694.0  47.70700  31.84680\n607   Yelanets-2 2022-01-10   2054.0  47.70700  31.84680\n608   Yelanets-2 2022-01-11      0.0  47.70700  31.84680\n609   Yelanets-2 2022-01-12      0.0  47.70700  31.84680\n610   Yelanets-2 2022-01-13      0.0  47.70700  31.84680\n\n[611 rows x 5 columns]",
      "text/html": "<div>\n<style scoped>\n    .dataframe tbody tr th:only-of-type {\n        vertical-align: middle;\n    }\n\n    .dataframe tbody tr th {\n        vertical-align: top;\n    }\n\n    .dataframe thead th {\n        text-align: right;\n    }\n</style>\n<table border=\"1\" class=\"dataframe\">\n  <thead>\n    <tr style=\"text-align: right;\">\n      <th></th>\n      <th>site</th>\n      <th>date</th>\n      <th>yeild</th>\n      <th>lat</th>\n      <th>long</th>\n    </tr>\n  </thead>\n  <tbody>\n    <tr>\n      <th>0</th>\n      <td>Afanasiivka</td>\n      <td>2022-01-01</td>\n      <td>2805.0</td>\n      <td>47.00201</td>\n      <td>32.82572</td>\n    </tr>\n    <tr>\n      <th>1</th>\n      <td>Afanasiivka</td>\n      <td>2022-01-02</td>\n      <td>26159.0</td>\n      <td>47.00201</td>\n      <td>32.82572</td>\n    </tr>\n    <tr>\n      <th>2</th>\n      <td>Afanasiivka</td>\n      <td>2022-01-03</td>\n      <td>7026.0</td>\n      <td>47.00201</td>\n      <td>32.82572</td>\n    </tr>\n    <tr>\n      <th>3</th>\n      <td>Afanasiivka</td>\n      <td>2022-01-04</td>\n      <td>34985.0</td>\n      <td>47.00201</td>\n      <td>32.82572</td>\n    </tr>\n    <tr>\n      <th>4</th>\n      <td>Afanasiivka</td>\n      <td>2022-01-05</td>\n      <td>27554.0</td>\n      <td>47.00201</td>\n      <td>32.82572</td>\n    </tr>\n    <tr>\n      <th>...</th>\n      <td>...</td>\n      <td>...</td>\n      <td>...</td>\n      <td>...</td>\n      <td>...</td>\n    </tr>\n    <tr>\n      <th>606</th>\n      <td>Yelanets-2</td>\n      <td>2022-01-09</td>\n      <td>694.0</td>\n      <td>47.70700</td>\n      <td>31.84680</td>\n    </tr>\n    <tr>\n      <th>607</th>\n      <td>Yelanets-2</td>\n      <td>2022-01-10</td>\n      <td>2054.0</td>\n      <td>47.70700</td>\n      <td>31.84680</td>\n    </tr>\n    <tr>\n      <th>608</th>\n      <td>Yelanets-2</td>\n      <td>2022-01-11</td>\n      <td>0.0</td>\n      <td>47.70700</td>\n      <td>31.84680</td>\n    </tr>\n    <tr>\n      <th>609</th>\n      <td>Yelanets-2</td>\n      <td>2022-01-12</td>\n      <td>0.0</td>\n      <td>47.70700</td>\n      <td>31.84680</td>\n    </tr>\n    <tr>\n      <th>610</th>\n      <td>Yelanets-2</td>\n      <td>2022-01-13</td>\n      <td>0.0</td>\n      <td>47.70700</td>\n      <td>31.84680</td>\n    </tr>\n  </tbody>\n</table>\n<p>611 rows × 5 columns</p>\n</div>"
     },
     "execution_count": 93,
     "metadata": {},
     "output_type": "execute_result"
    }
   ],
   "source": [
    "map_data.reset_index()"
   ],
   "metadata": {
    "collapsed": false,
    "pycharm": {
     "name": "#%%\n"
    }
   }
  },
  {
   "cell_type": "code",
   "execution_count": 131,
   "outputs": [
    {
     "data": {
      "text/plain": "          site  region  cluster       date  hour   yeild  forecast  error  \\\n14136  Balivka  dnipro       13 2022-01-05     1   -27.0       -44     17   \n14137  Balivka  dnipro       13 2022-01-05     2   -55.0       -44    -11   \n14138  Balivka  dnipro       13 2022-01-05     3   -28.0       -44     16   \n14139  Balivka  dnipro       13 2022-01-05     4   -54.0       -44    -10   \n14140  Balivka  dnipro       13 2022-01-05     5   -28.0       -44     16   \n14141  Balivka  dnipro       13 2022-01-05     6   -54.0       -44    -10   \n14142  Balivka  dnipro       13 2022-01-05     7   -28.0       -44     16   \n14143  Balivka  dnipro       13 2022-01-05     8   -55.0       -44    -11   \n14144  Balivka  dnipro       13 2022-01-05     9   210.0       126     84   \n14145  Balivka  dnipro       13 2022-01-05    10   399.0       588   -189   \n14146  Balivka  dnipro       13 2022-01-05    11  1386.0      1258    128   \n14147  Balivka  dnipro       13 2022-01-05    12  1617.0      2652  -1035   \n14148  Balivka  dnipro       13 2022-01-05    13  1617.0      2992  -1375   \n14149  Balivka  dnipro       13 2022-01-05    14  1092.0      2421  -1329   \n14150  Balivka  dnipro       13 2022-01-05    15   672.0      1422   -750   \n14151  Balivka  dnipro       13 2022-01-05    16   231.0       173     58   \n14152  Balivka  dnipro       13 2022-01-05    17   -54.0       -44    -10   \n14153  Balivka  dnipro       13 2022-01-05    18   -28.0       -44     16   \n14154  Balivka  dnipro       13 2022-01-05    19   -27.0       -44     17   \n14155  Balivka  dnipro       13 2022-01-05    20   -55.0       -44    -11   \n14156  Balivka  dnipro       13 2022-01-05    21   -27.0       -44     17   \n14157  Balivka  dnipro       13 2022-01-05    22   -55.0       -44    -11   \n14158  Balivka  dnipro       13 2022-01-05    23   -27.0       -44     17   \n14159  Balivka  dnipro       13 2022-01-05    24   -28.0       -44     16   \n\n            lat      long  \n14136  48.59656  34.74867  \n14137  48.59656  34.74867  \n14138  48.59656  34.74867  \n14139  48.59656  34.74867  \n14140  48.59656  34.74867  \n14141  48.59656  34.74867  \n14142  48.59656  34.74867  \n14143  48.59656  34.74867  \n14144  48.59656  34.74867  \n14145  48.59656  34.74867  \n14146  48.59656  34.74867  \n14147  48.59656  34.74867  \n14148  48.59656  34.74867  \n14149  48.59656  34.74867  \n14150  48.59656  34.74867  \n14151  48.59656  34.74867  \n14152  48.59656  34.74867  \n14153  48.59656  34.74867  \n14154  48.59656  34.74867  \n14155  48.59656  34.74867  \n14156  48.59656  34.74867  \n14157  48.59656  34.74867  \n14158  48.59656  34.74867  \n14159  48.59656  34.74867  ",
      "text/html": "<div>\n<style scoped>\n    .dataframe tbody tr th:only-of-type {\n        vertical-align: middle;\n    }\n\n    .dataframe tbody tr th {\n        vertical-align: top;\n    }\n\n    .dataframe thead th {\n        text-align: right;\n    }\n</style>\n<table border=\"1\" class=\"dataframe\">\n  <thead>\n    <tr style=\"text-align: right;\">\n      <th></th>\n      <th>site</th>\n      <th>region</th>\n      <th>cluster</th>\n      <th>date</th>\n      <th>hour</th>\n      <th>yeild</th>\n      <th>forecast</th>\n      <th>error</th>\n      <th>lat</th>\n      <th>long</th>\n    </tr>\n  </thead>\n  <tbody>\n    <tr>\n      <th>14136</th>\n      <td>Balivka</td>\n      <td>dnipro</td>\n      <td>13</td>\n      <td>2022-01-05</td>\n      <td>1</td>\n      <td>-27.0</td>\n      <td>-44</td>\n      <td>17</td>\n      <td>48.59656</td>\n      <td>34.74867</td>\n    </tr>\n    <tr>\n      <th>14137</th>\n      <td>Balivka</td>\n      <td>dnipro</td>\n      <td>13</td>\n      <td>2022-01-05</td>\n      <td>2</td>\n      <td>-55.0</td>\n      <td>-44</td>\n      <td>-11</td>\n      <td>48.59656</td>\n      <td>34.74867</td>\n    </tr>\n    <tr>\n      <th>14138</th>\n      <td>Balivka</td>\n      <td>dnipro</td>\n      <td>13</td>\n      <td>2022-01-05</td>\n      <td>3</td>\n      <td>-28.0</td>\n      <td>-44</td>\n      <td>16</td>\n      <td>48.59656</td>\n      <td>34.74867</td>\n    </tr>\n    <tr>\n      <th>14139</th>\n      <td>Balivka</td>\n      <td>dnipro</td>\n      <td>13</td>\n      <td>2022-01-05</td>\n      <td>4</td>\n      <td>-54.0</td>\n      <td>-44</td>\n      <td>-10</td>\n      <td>48.59656</td>\n      <td>34.74867</td>\n    </tr>\n    <tr>\n      <th>14140</th>\n      <td>Balivka</td>\n      <td>dnipro</td>\n      <td>13</td>\n      <td>2022-01-05</td>\n      <td>5</td>\n      <td>-28.0</td>\n      <td>-44</td>\n      <td>16</td>\n      <td>48.59656</td>\n      <td>34.74867</td>\n    </tr>\n    <tr>\n      <th>14141</th>\n      <td>Balivka</td>\n      <td>dnipro</td>\n      <td>13</td>\n      <td>2022-01-05</td>\n      <td>6</td>\n      <td>-54.0</td>\n      <td>-44</td>\n      <td>-10</td>\n      <td>48.59656</td>\n      <td>34.74867</td>\n    </tr>\n    <tr>\n      <th>14142</th>\n      <td>Balivka</td>\n      <td>dnipro</td>\n      <td>13</td>\n      <td>2022-01-05</td>\n      <td>7</td>\n      <td>-28.0</td>\n      <td>-44</td>\n      <td>16</td>\n      <td>48.59656</td>\n      <td>34.74867</td>\n    </tr>\n    <tr>\n      <th>14143</th>\n      <td>Balivka</td>\n      <td>dnipro</td>\n      <td>13</td>\n      <td>2022-01-05</td>\n      <td>8</td>\n      <td>-55.0</td>\n      <td>-44</td>\n      <td>-11</td>\n      <td>48.59656</td>\n      <td>34.74867</td>\n    </tr>\n    <tr>\n      <th>14144</th>\n      <td>Balivka</td>\n      <td>dnipro</td>\n      <td>13</td>\n      <td>2022-01-05</td>\n      <td>9</td>\n      <td>210.0</td>\n      <td>126</td>\n      <td>84</td>\n      <td>48.59656</td>\n      <td>34.74867</td>\n    </tr>\n    <tr>\n      <th>14145</th>\n      <td>Balivka</td>\n      <td>dnipro</td>\n      <td>13</td>\n      <td>2022-01-05</td>\n      <td>10</td>\n      <td>399.0</td>\n      <td>588</td>\n      <td>-189</td>\n      <td>48.59656</td>\n      <td>34.74867</td>\n    </tr>\n    <tr>\n      <th>14146</th>\n      <td>Balivka</td>\n      <td>dnipro</td>\n      <td>13</td>\n      <td>2022-01-05</td>\n      <td>11</td>\n      <td>1386.0</td>\n      <td>1258</td>\n      <td>128</td>\n      <td>48.59656</td>\n      <td>34.74867</td>\n    </tr>\n    <tr>\n      <th>14147</th>\n      <td>Balivka</td>\n      <td>dnipro</td>\n      <td>13</td>\n      <td>2022-01-05</td>\n      <td>12</td>\n      <td>1617.0</td>\n      <td>2652</td>\n      <td>-1035</td>\n      <td>48.59656</td>\n      <td>34.74867</td>\n    </tr>\n    <tr>\n      <th>14148</th>\n      <td>Balivka</td>\n      <td>dnipro</td>\n      <td>13</td>\n      <td>2022-01-05</td>\n      <td>13</td>\n      <td>1617.0</td>\n      <td>2992</td>\n      <td>-1375</td>\n      <td>48.59656</td>\n      <td>34.74867</td>\n    </tr>\n    <tr>\n      <th>14149</th>\n      <td>Balivka</td>\n      <td>dnipro</td>\n      <td>13</td>\n      <td>2022-01-05</td>\n      <td>14</td>\n      <td>1092.0</td>\n      <td>2421</td>\n      <td>-1329</td>\n      <td>48.59656</td>\n      <td>34.74867</td>\n    </tr>\n    <tr>\n      <th>14150</th>\n      <td>Balivka</td>\n      <td>dnipro</td>\n      <td>13</td>\n      <td>2022-01-05</td>\n      <td>15</td>\n      <td>672.0</td>\n      <td>1422</td>\n      <td>-750</td>\n      <td>48.59656</td>\n      <td>34.74867</td>\n    </tr>\n    <tr>\n      <th>14151</th>\n      <td>Balivka</td>\n      <td>dnipro</td>\n      <td>13</td>\n      <td>2022-01-05</td>\n      <td>16</td>\n      <td>231.0</td>\n      <td>173</td>\n      <td>58</td>\n      <td>48.59656</td>\n      <td>34.74867</td>\n    </tr>\n    <tr>\n      <th>14152</th>\n      <td>Balivka</td>\n      <td>dnipro</td>\n      <td>13</td>\n      <td>2022-01-05</td>\n      <td>17</td>\n      <td>-54.0</td>\n      <td>-44</td>\n      <td>-10</td>\n      <td>48.59656</td>\n      <td>34.74867</td>\n    </tr>\n    <tr>\n      <th>14153</th>\n      <td>Balivka</td>\n      <td>dnipro</td>\n      <td>13</td>\n      <td>2022-01-05</td>\n      <td>18</td>\n      <td>-28.0</td>\n      <td>-44</td>\n      <td>16</td>\n      <td>48.59656</td>\n      <td>34.74867</td>\n    </tr>\n    <tr>\n      <th>14154</th>\n      <td>Balivka</td>\n      <td>dnipro</td>\n      <td>13</td>\n      <td>2022-01-05</td>\n      <td>19</td>\n      <td>-27.0</td>\n      <td>-44</td>\n      <td>17</td>\n      <td>48.59656</td>\n      <td>34.74867</td>\n    </tr>\n    <tr>\n      <th>14155</th>\n      <td>Balivka</td>\n      <td>dnipro</td>\n      <td>13</td>\n      <td>2022-01-05</td>\n      <td>20</td>\n      <td>-55.0</td>\n      <td>-44</td>\n      <td>-11</td>\n      <td>48.59656</td>\n      <td>34.74867</td>\n    </tr>\n    <tr>\n      <th>14156</th>\n      <td>Balivka</td>\n      <td>dnipro</td>\n      <td>13</td>\n      <td>2022-01-05</td>\n      <td>21</td>\n      <td>-27.0</td>\n      <td>-44</td>\n      <td>17</td>\n      <td>48.59656</td>\n      <td>34.74867</td>\n    </tr>\n    <tr>\n      <th>14157</th>\n      <td>Balivka</td>\n      <td>dnipro</td>\n      <td>13</td>\n      <td>2022-01-05</td>\n      <td>22</td>\n      <td>-55.0</td>\n      <td>-44</td>\n      <td>-11</td>\n      <td>48.59656</td>\n      <td>34.74867</td>\n    </tr>\n    <tr>\n      <th>14158</th>\n      <td>Balivka</td>\n      <td>dnipro</td>\n      <td>13</td>\n      <td>2022-01-05</td>\n      <td>23</td>\n      <td>-27.0</td>\n      <td>-44</td>\n      <td>17</td>\n      <td>48.59656</td>\n      <td>34.74867</td>\n    </tr>\n    <tr>\n      <th>14159</th>\n      <td>Balivka</td>\n      <td>dnipro</td>\n      <td>13</td>\n      <td>2022-01-05</td>\n      <td>24</td>\n      <td>-28.0</td>\n      <td>-44</td>\n      <td>16</td>\n      <td>48.59656</td>\n      <td>34.74867</td>\n    </tr>\n  </tbody>\n</table>\n</div>"
     },
     "execution_count": 131,
     "metadata": {},
     "output_type": "execute_result"
    }
   ],
   "source": [
    "g_semple =grouped_data.get_group(('dnipro', 'Balivka', '2022-01-05'))\n",
    "g_semple"
   ],
   "metadata": {
    "collapsed": false,
    "pycharm": {
     "name": "#%%\n"
    }
   }
  },
  {
   "cell_type": "code",
   "execution_count": 147,
   "outputs": [
    {
     "name": "stderr",
     "output_type": "stream",
     "text": [
      "/Users/vladberezov/PycharmProjects/clean_dashboard/app/forecasting_metrics.py:163: RuntimeWarning:\n",
      "\n",
      "divide by zero encountered in double_scalars\n",
      "\n"
     ]
    },
    {
     "data": {
      "text/plain": "['smape',\n 'nrmse',\n 'rmse',\n 'mase',\n 'mad',\n 'mdape',\n 'mse',\n 'std_ape',\n 'gmae',\n 'me',\n 'mbrae',\n 'mpe',\n 'umbrae',\n 'mda',\n 'mre',\n 'smdape',\n 'maape',\n 'mdae',\n 'mape',\n 'std_ae',\n 'rrse',\n 'rmsse',\n 'mrae',\n 'rae',\n 'gmrae',\n 'mdrae',\n 'rmdspe',\n 'mae',\n 'rmspe',\n 'inrse']"
     },
     "execution_count": 147,
     "metadata": {},
     "output_type": "execute_result"
    }
   ],
   "source": [
    "from forecasting_metrics import evaluate_all\n",
    "\n",
    "predicted = g_semple['forecast'].abs()\n",
    "actual = g_semple['yeild'].abs()\n",
    "e = evaluate_all(actual, predicted)\n",
    "e = pd.DataFrame([e])\n",
    "e.T.index.tolist()"
   ],
   "metadata": {
    "collapsed": false,
    "pycharm": {
     "name": "#%%\n"
    }
   }
  },
  {
   "cell_type": "code",
   "execution_count": null,
   "outputs": [],
   "source": [],
   "metadata": {
    "collapsed": false,
    "pycharm": {
     "name": "#%%\n"
    }
   }
  },
  {
   "cell_type": "markdown",
   "source": [
    "\n",
    "TODO:\n",
    "table:\n",
    "error_shortage_m, kWh\n",
    "error_excess_m, kWh\n",
    "for station per day\n",
    "and per hour\n",
    "\n",
    "table:\n",
    "yeild, kWh\n",
    "forecast, kWh\n",
    "per for station per hour\n",
    "\n",
    "table:\n",
    "error_shortage_m, kWh\n",
    "error_excess_m, kWh\n",
    "error_total_m, kWh\n",
    "yeild, kWh\n",
    "total per day for all Stations\n",
    "\n",
    "table:\n",
    "Сумма по полю error_excess, %\n",
    "Сумма по полю error_shortage, %\n",
    "Сумма по полю ERROR_TOTAL, %\n",
    "total per station"
   ],
   "metadata": {
    "collapsed": false,
    "pycharm": {
     "name": "#%% md\n"
    }
   }
  },
  {
   "cell_type": "code",
   "execution_count": 95,
   "outputs": [
    {
     "data": {
      "text/plain": "                        forecast    yeild  error_shortage  error_excess\nsite        date                                                       \nAfanasiivka 2022-01-01      6682   2805.0           -4365           488\n            2022-01-02     26191  26159.0           -3489          3457\n            2022-01-03     13633   7026.0           -7170           563\n            2022-01-04     26957  34985.0           -4231         12259\n            2022-01-05     37195  27554.0          -10186           545\n...                          ...      ...             ...           ...\nYelanets-2  2022-01-09      1207    694.0            -519             6\n            2022-01-10      2773   2054.0            -832           113\n            2022-01-11      4939      0.0           -5149           210\n            2022-01-12      8343      0.0           -8539           196\n            2022-01-13     10979      0.0          -11175           196\n\n[611 rows x 4 columns]",
      "text/html": "<div>\n<style scoped>\n    .dataframe tbody tr th:only-of-type {\n        vertical-align: middle;\n    }\n\n    .dataframe tbody tr th {\n        vertical-align: top;\n    }\n\n    .dataframe thead th {\n        text-align: right;\n    }\n</style>\n<table border=\"1\" class=\"dataframe\">\n  <thead>\n    <tr style=\"text-align: right;\">\n      <th></th>\n      <th></th>\n      <th>forecast</th>\n      <th>yeild</th>\n      <th>error_shortage</th>\n      <th>error_excess</th>\n    </tr>\n    <tr>\n      <th>site</th>\n      <th>date</th>\n      <th></th>\n      <th></th>\n      <th></th>\n      <th></th>\n    </tr>\n  </thead>\n  <tbody>\n    <tr>\n      <th rowspan=\"5\" valign=\"top\">Afanasiivka</th>\n      <th>2022-01-01</th>\n      <td>6682</td>\n      <td>2805.0</td>\n      <td>-4365</td>\n      <td>488</td>\n    </tr>\n    <tr>\n      <th>2022-01-02</th>\n      <td>26191</td>\n      <td>26159.0</td>\n      <td>-3489</td>\n      <td>3457</td>\n    </tr>\n    <tr>\n      <th>2022-01-03</th>\n      <td>13633</td>\n      <td>7026.0</td>\n      <td>-7170</td>\n      <td>563</td>\n    </tr>\n    <tr>\n      <th>2022-01-04</th>\n      <td>26957</td>\n      <td>34985.0</td>\n      <td>-4231</td>\n      <td>12259</td>\n    </tr>\n    <tr>\n      <th>2022-01-05</th>\n      <td>37195</td>\n      <td>27554.0</td>\n      <td>-10186</td>\n      <td>545</td>\n    </tr>\n    <tr>\n      <th>...</th>\n      <th>...</th>\n      <td>...</td>\n      <td>...</td>\n      <td>...</td>\n      <td>...</td>\n    </tr>\n    <tr>\n      <th rowspan=\"5\" valign=\"top\">Yelanets-2</th>\n      <th>2022-01-09</th>\n      <td>1207</td>\n      <td>694.0</td>\n      <td>-519</td>\n      <td>6</td>\n    </tr>\n    <tr>\n      <th>2022-01-10</th>\n      <td>2773</td>\n      <td>2054.0</td>\n      <td>-832</td>\n      <td>113</td>\n    </tr>\n    <tr>\n      <th>2022-01-11</th>\n      <td>4939</td>\n      <td>0.0</td>\n      <td>-5149</td>\n      <td>210</td>\n    </tr>\n    <tr>\n      <th>2022-01-12</th>\n      <td>8343</td>\n      <td>0.0</td>\n      <td>-8539</td>\n      <td>196</td>\n    </tr>\n    <tr>\n      <th>2022-01-13</th>\n      <td>10979</td>\n      <td>0.0</td>\n      <td>-11175</td>\n      <td>196</td>\n    </tr>\n  </tbody>\n</table>\n<p>611 rows × 4 columns</p>\n</div>"
     },
     "execution_count": 95,
     "metadata": {},
     "output_type": "execute_result"
    }
   ],
   "source": [
    "\n",
    "\n",
    "def assign_shortage_excess_err(df):\n",
    "    df = (df.assign(\n",
    "        error_shortage = lambda x: x['error'].apply(lambda x: x if x < 0 else 0),\n",
    "        error_excess = lambda x: x['error'].apply(lambda x: x if x > 0 else 0)\n",
    "            )\n",
    "        )\n",
    "    return df\n",
    "\n",
    "data = assign_shortage_excess_err(data)\n",
    "df_gg = data.groupby(by=['site', 'date'])\n",
    "df_aggregated = df_gg.agg({'forecast':'sum',\n",
    "                           'yeild':'sum',\n",
    "                           'error_shortage':'sum',\n",
    "                           'error_excess':'sum'})\n",
    "df_aggregated"
   ],
   "metadata": {
    "collapsed": false,
    "pycharm": {
     "name": "#%%\n"
    }
   }
  },
  {
   "cell_type": "code",
   "execution_count": 130,
   "outputs": [
    {
     "data": {
      "text/plain": "                 forecast  yeild  error_shortage  error_excess\nsite date                                                     \nBar  2022-01-01      1344  794.0            -669           119",
      "text/html": "<div>\n<style scoped>\n    .dataframe tbody tr th:only-of-type {\n        vertical-align: middle;\n    }\n\n    .dataframe tbody tr th {\n        vertical-align: top;\n    }\n\n    .dataframe thead th {\n        text-align: right;\n    }\n</style>\n<table border=\"1\" class=\"dataframe\">\n  <thead>\n    <tr style=\"text-align: right;\">\n      <th></th>\n      <th></th>\n      <th>forecast</th>\n      <th>yeild</th>\n      <th>error_shortage</th>\n      <th>error_excess</th>\n    </tr>\n    <tr>\n      <th>site</th>\n      <th>date</th>\n      <th></th>\n      <th></th>\n      <th></th>\n      <th></th>\n    </tr>\n  </thead>\n  <tbody>\n    <tr>\n      <th>Bar</th>\n      <th>2022-01-01</th>\n      <td>1344</td>\n      <td>794.0</td>\n      <td>-669</td>\n      <td>119</td>\n    </tr>\n  </tbody>\n</table>\n</div>"
     },
     "execution_count": 130,
     "metadata": {},
     "output_type": "execute_result"
    }
   ],
   "source": [
    "er =  df_aggregated.loc['Bar',['2022-01-01'], :]\n",
    "er"
   ],
   "metadata": {
    "collapsed": false,
    "pycharm": {
     "name": "#%%\n"
    }
   }
  },
  {
   "cell_type": "code",
   "execution_count": 123,
   "outputs": [
    {
     "data": {
      "text/plain": "Index(['Afanasiivka', 'Balivka', 'Balky', 'Bar', 'Bazaltova', 'Bereznehuvate',\n       'Bilashky', 'Bilozerka', 'Chechelnyk_1', 'Chechelnyk_2', 'Cherniatka',\n       'Dibrovka', 'Hlybochok_1', 'Hlybochok_2.1', 'Hlybochok_2.2', 'Hnatkiv',\n       'Inhulets_1', 'Inhulets_2', 'Kachkarivka', 'Komyshany_1', 'Komyshany_2',\n       'Kopaihorod', 'Kostohryzove', 'Kylevcha', 'Kyselivka', 'Liubymivka',\n       'Mala_Lepetykha', 'Mykolaivka', 'Myroliubivka', 'Novokondakove',\n       'Oleshky-1', 'Oleshky-2', 'Pohrebyshche', 'Poniativka', 'Porohy',\n       'Rubanivka', 'Sharhorod-1', 'Solone', 'Stanislavchyk', 'Stepnohirsk',\n       'Teplychna', 'Vasylivka', 'Velihen', 'Veliton', 'Verkhivka',\n       'Yelanets-1', 'Yelanets-2'],\n      dtype='object', name='site')"
     },
     "execution_count": 123,
     "metadata": {},
     "output_type": "execute_result"
    }
   ],
   "source": [
    "er.index.get_level_values(0)"
   ],
   "metadata": {
    "collapsed": false,
    "pycharm": {
     "name": "#%%\n"
    }
   }
  },
  {
   "cell_type": "code",
   "execution_count": null,
   "outputs": [],
   "source": [
    "g_semple = assign_shortage_excess_err(g_semple)\n",
    "g_semple"
   ],
   "metadata": {
    "collapsed": false,
    "pycharm": {
     "name": "#%%\n"
    }
   }
  },
  {
   "cell_type": "code",
   "execution_count": null,
   "outputs": [],
   "source": [
    "import plotly.graph_objects as go\n",
    "import plotly.express as px\n",
    "def draw_piechart(df):\n",
    "    # This dataframe has 244 lines, but 4 distinct values for `day`\n",
    "    df = er\n",
    "    fig = px.pie(df,\n",
    "                 values=df[['error_shortage', 'error_excess']].abs().values.tolist()[0],\n",
    "                 names=['error_shortage', 'error_excess'],\n",
    "                 hole=.3)\n",
    "    return  fig"
   ],
   "metadata": {
    "collapsed": false,
    "pycharm": {
     "name": "#%%\n"
    }
   }
  },
  {
   "cell_type": "code",
   "execution_count": null,
   "outputs": [],
   "source": [
    "er[['error_shortage', 'error_excess']].abs().values.tolist()"
   ],
   "metadata": {
    "collapsed": false,
    "pycharm": {
     "name": "#%%\n"
    }
   }
  },
  {
   "cell_type": "code",
   "execution_count": 129,
   "outputs": [
    {
     "data": {
      "application/vnd.plotly.v1+json": {
       "data": [
        {
         "x": [
          "Dibrovka",
          "Inhulets_1",
          "Chechelnyk_2",
          "Chechelnyk_1",
          "Yelanets-1",
          "Balivka",
          "Inhulets_2",
          "Cherniatka",
          "Pohrebyshche",
          "Afanasiivka",
          "Bereznehuvate",
          "Teplychna",
          "Kylevcha",
          "Stepnohirsk",
          "Yelanets-2",
          "Bazaltova",
          "Porohy",
          "Bilashky",
          "Kyselivka",
          "Sharhorod-1",
          "Myroliubivka",
          "Poniativka",
          "Bilozerka",
          "Hlybochok_2.2",
          "Hnatkiv",
          "Hlybochok_2.1",
          "Kopaihorod",
          "Bar",
          "Kachkarivka",
          "Stanislavchyk",
          "Rubanivka",
          "Solone",
          "Komyshany_1",
          "Oleshky-1",
          "Oleshky-2",
          "Verkhivka",
          "Vasylivka",
          "Balky",
          "Komyshany_2",
          "Kostohryzove",
          "Liubymivka",
          "Hlybochok_1",
          "Mykolaivka",
          "Velihen",
          "Veliton",
          "Mala_Lepetykha",
          "Novokondakove"
         ],
         "y": [
          7580.0,
          4602.0,
          4500.0,
          4333.0,
          4193.0,
          3998.0,
          3316.0,
          3062.0,
          3048.0,
          2805.0,
          2750.0,
          2730.0,
          2347.0,
          2200.0,
          2136.0,
          2094.0,
          2032.0,
          2000.0,
          1990.0,
          1855.0,
          1713.0,
          1374.0,
          1356.0,
          1329.0,
          1150.0,
          916.0,
          900.0,
          794.0,
          756.0,
          756.0,
          732.0,
          713.0,
          676.0,
          645.0,
          641.0,
          635.0,
          588.0,
          555.0,
          525.0,
          504.0,
          500.0,
          381.0,
          200.0,
          156.0,
          52.0,
          44.0,
          -602.0
         ],
         "type": "scatter"
        },
        {
         "x": [
          "Dibrovka",
          "Inhulets_1",
          "Chechelnyk_2",
          "Chechelnyk_1",
          "Yelanets-1",
          "Balivka",
          "Inhulets_2",
          "Cherniatka",
          "Pohrebyshche",
          "Afanasiivka",
          "Bereznehuvate",
          "Teplychna",
          "Kylevcha",
          "Stepnohirsk",
          "Yelanets-2",
          "Bazaltova",
          "Porohy",
          "Bilashky",
          "Kyselivka",
          "Sharhorod-1",
          "Myroliubivka",
          "Poniativka",
          "Bilozerka",
          "Hlybochok_2.2",
          "Hnatkiv",
          "Hlybochok_2.1",
          "Kopaihorod",
          "Bar",
          "Kachkarivka",
          "Stanislavchyk",
          "Rubanivka",
          "Solone",
          "Komyshany_1",
          "Oleshky-1",
          "Oleshky-2",
          "Verkhivka",
          "Vasylivka",
          "Balky",
          "Komyshany_2",
          "Kostohryzove",
          "Liubymivka",
          "Hlybochok_1",
          "Mykolaivka",
          "Velihen",
          "Veliton",
          "Mala_Lepetykha",
          "Novokondakove"
         ],
         "y": [
          6991,
          10375,
          3267,
          3042,
          5988,
          3500,
          7717,
          2595,
          3065,
          6682,
          4154,
          3496,
          2348,
          2236,
          2986,
          5586,
          1513,
          2001,
          4297,
          2195,
          2674,
          3931,
          2014,
          1378,
          1706,
          921,
          1399,
          1344,
          917,
          2431,
          2537,
          1721,
          1182,
          3771,
          3204,
          547,
          6039,
          1473,
          950,
          2487,
          1739,
          344,
          621,
          576,
          233,
          606,
          2645
         ],
         "type": "scatter"
        },
        {
         "x": [
          "Dibrovka",
          "Inhulets_1",
          "Chechelnyk_2",
          "Chechelnyk_1",
          "Yelanets-1",
          "Balivka",
          "Inhulets_2",
          "Cherniatka",
          "Pohrebyshche",
          "Afanasiivka",
          "Bereznehuvate",
          "Teplychna",
          "Kylevcha",
          "Stepnohirsk",
          "Yelanets-2",
          "Bazaltova",
          "Porohy",
          "Bilashky",
          "Kyselivka",
          "Sharhorod-1",
          "Myroliubivka",
          "Poniativka",
          "Bilozerka",
          "Hlybochok_2.2",
          "Hnatkiv",
          "Hlybochok_2.1",
          "Kopaihorod",
          "Bar",
          "Kachkarivka",
          "Stanislavchyk",
          "Rubanivka",
          "Solone",
          "Komyshany_1",
          "Oleshky-1",
          "Oleshky-2",
          "Verkhivka",
          "Vasylivka",
          "Balky",
          "Komyshany_2",
          "Kostohryzove",
          "Liubymivka",
          "Hlybochok_1",
          "Mykolaivka",
          "Velihen",
          "Veliton",
          "Mala_Lepetykha",
          "Novokondakove"
         ],
         "y": [
          -1252,
          -6887,
          -619,
          -781,
          -1979,
          -2356,
          -5007,
          -551,
          -1488,
          -4365,
          -2144,
          -1451,
          -1007,
          -1565,
          -926,
          -3748,
          -489,
          -1176,
          -3041,
          -665,
          -1524,
          -2744,
          -1405,
          -448,
          -682,
          -280,
          -843,
          -669,
          -605,
          -1855,
          -2072,
          -1190,
          -686,
          -3291,
          -2575,
          -131,
          -5728,
          -1047,
          -555,
          -2044,
          -1324,
          -203,
          -535,
          -593,
          -245,
          -578,
          -3269
         ],
         "type": "bar"
        },
        {
         "x": [
          "Dibrovka",
          "Inhulets_1",
          "Chechelnyk_2",
          "Chechelnyk_1",
          "Yelanets-1",
          "Balivka",
          "Inhulets_2",
          "Cherniatka",
          "Pohrebyshche",
          "Afanasiivka",
          "Bereznehuvate",
          "Teplychna",
          "Kylevcha",
          "Stepnohirsk",
          "Yelanets-2",
          "Bazaltova",
          "Porohy",
          "Bilashky",
          "Kyselivka",
          "Sharhorod-1",
          "Myroliubivka",
          "Poniativka",
          "Bilozerka",
          "Hlybochok_2.2",
          "Hnatkiv",
          "Hlybochok_2.1",
          "Kopaihorod",
          "Bar",
          "Kachkarivka",
          "Stanislavchyk",
          "Rubanivka",
          "Solone",
          "Komyshany_1",
          "Oleshky-1",
          "Oleshky-2",
          "Verkhivka",
          "Vasylivka",
          "Balky",
          "Komyshany_2",
          "Kostohryzove",
          "Liubymivka",
          "Hlybochok_1",
          "Mykolaivka",
          "Velihen",
          "Veliton",
          "Mala_Lepetykha",
          "Novokondakove"
         ],
         "y": [
          1841,
          1114,
          1852,
          2072,
          184,
          2854,
          606,
          1018,
          1471,
          488,
          740,
          685,
          1006,
          1529,
          76,
          256,
          1008,
          1175,
          734,
          325,
          563,
          187,
          747,
          399,
          126,
          275,
          344,
          119,
          444,
          180,
          267,
          182,
          180,
          165,
          12,
          219,
          277,
          129,
          130,
          61,
          85,
          240,
          114,
          173,
          64,
          16,
          22
         ],
         "type": "bar"
        }
       ],
       "layout": {
        "template": {
         "data": {
          "bar": [
           {
            "error_x": {
             "color": "#2a3f5f"
            },
            "error_y": {
             "color": "#2a3f5f"
            },
            "marker": {
             "line": {
              "color": "#E5ECF6",
              "width": 0.5
             },
             "pattern": {
              "fillmode": "overlay",
              "size": 10,
              "solidity": 0.2
             }
            },
            "type": "bar"
           }
          ],
          "barpolar": [
           {
            "marker": {
             "line": {
              "color": "#E5ECF6",
              "width": 0.5
             },
             "pattern": {
              "fillmode": "overlay",
              "size": 10,
              "solidity": 0.2
             }
            },
            "type": "barpolar"
           }
          ],
          "carpet": [
           {
            "aaxis": {
             "endlinecolor": "#2a3f5f",
             "gridcolor": "white",
             "linecolor": "white",
             "minorgridcolor": "white",
             "startlinecolor": "#2a3f5f"
            },
            "baxis": {
             "endlinecolor": "#2a3f5f",
             "gridcolor": "white",
             "linecolor": "white",
             "minorgridcolor": "white",
             "startlinecolor": "#2a3f5f"
            },
            "type": "carpet"
           }
          ],
          "choropleth": [
           {
            "colorbar": {
             "outlinewidth": 0,
             "ticks": ""
            },
            "type": "choropleth"
           }
          ],
          "contour": [
           {
            "colorbar": {
             "outlinewidth": 0,
             "ticks": ""
            },
            "colorscale": [
             [
              0.0,
              "#0d0887"
             ],
             [
              0.1111111111111111,
              "#46039f"
             ],
             [
              0.2222222222222222,
              "#7201a8"
             ],
             [
              0.3333333333333333,
              "#9c179e"
             ],
             [
              0.4444444444444444,
              "#bd3786"
             ],
             [
              0.5555555555555556,
              "#d8576b"
             ],
             [
              0.6666666666666666,
              "#ed7953"
             ],
             [
              0.7777777777777778,
              "#fb9f3a"
             ],
             [
              0.8888888888888888,
              "#fdca26"
             ],
             [
              1.0,
              "#f0f921"
             ]
            ],
            "type": "contour"
           }
          ],
          "contourcarpet": [
           {
            "colorbar": {
             "outlinewidth": 0,
             "ticks": ""
            },
            "type": "contourcarpet"
           }
          ],
          "heatmap": [
           {
            "colorbar": {
             "outlinewidth": 0,
             "ticks": ""
            },
            "colorscale": [
             [
              0.0,
              "#0d0887"
             ],
             [
              0.1111111111111111,
              "#46039f"
             ],
             [
              0.2222222222222222,
              "#7201a8"
             ],
             [
              0.3333333333333333,
              "#9c179e"
             ],
             [
              0.4444444444444444,
              "#bd3786"
             ],
             [
              0.5555555555555556,
              "#d8576b"
             ],
             [
              0.6666666666666666,
              "#ed7953"
             ],
             [
              0.7777777777777778,
              "#fb9f3a"
             ],
             [
              0.8888888888888888,
              "#fdca26"
             ],
             [
              1.0,
              "#f0f921"
             ]
            ],
            "type": "heatmap"
           }
          ],
          "heatmapgl": [
           {
            "colorbar": {
             "outlinewidth": 0,
             "ticks": ""
            },
            "colorscale": [
             [
              0.0,
              "#0d0887"
             ],
             [
              0.1111111111111111,
              "#46039f"
             ],
             [
              0.2222222222222222,
              "#7201a8"
             ],
             [
              0.3333333333333333,
              "#9c179e"
             ],
             [
              0.4444444444444444,
              "#bd3786"
             ],
             [
              0.5555555555555556,
              "#d8576b"
             ],
             [
              0.6666666666666666,
              "#ed7953"
             ],
             [
              0.7777777777777778,
              "#fb9f3a"
             ],
             [
              0.8888888888888888,
              "#fdca26"
             ],
             [
              1.0,
              "#f0f921"
             ]
            ],
            "type": "heatmapgl"
           }
          ],
          "histogram": [
           {
            "marker": {
             "pattern": {
              "fillmode": "overlay",
              "size": 10,
              "solidity": 0.2
             }
            },
            "type": "histogram"
           }
          ],
          "histogram2d": [
           {
            "colorbar": {
             "outlinewidth": 0,
             "ticks": ""
            },
            "colorscale": [
             [
              0.0,
              "#0d0887"
             ],
             [
              0.1111111111111111,
              "#46039f"
             ],
             [
              0.2222222222222222,
              "#7201a8"
             ],
             [
              0.3333333333333333,
              "#9c179e"
             ],
             [
              0.4444444444444444,
              "#bd3786"
             ],
             [
              0.5555555555555556,
              "#d8576b"
             ],
             [
              0.6666666666666666,
              "#ed7953"
             ],
             [
              0.7777777777777778,
              "#fb9f3a"
             ],
             [
              0.8888888888888888,
              "#fdca26"
             ],
             [
              1.0,
              "#f0f921"
             ]
            ],
            "type": "histogram2d"
           }
          ],
          "histogram2dcontour": [
           {
            "colorbar": {
             "outlinewidth": 0,
             "ticks": ""
            },
            "colorscale": [
             [
              0.0,
              "#0d0887"
             ],
             [
              0.1111111111111111,
              "#46039f"
             ],
             [
              0.2222222222222222,
              "#7201a8"
             ],
             [
              0.3333333333333333,
              "#9c179e"
             ],
             [
              0.4444444444444444,
              "#bd3786"
             ],
             [
              0.5555555555555556,
              "#d8576b"
             ],
             [
              0.6666666666666666,
              "#ed7953"
             ],
             [
              0.7777777777777778,
              "#fb9f3a"
             ],
             [
              0.8888888888888888,
              "#fdca26"
             ],
             [
              1.0,
              "#f0f921"
             ]
            ],
            "type": "histogram2dcontour"
           }
          ],
          "mesh3d": [
           {
            "colorbar": {
             "outlinewidth": 0,
             "ticks": ""
            },
            "type": "mesh3d"
           }
          ],
          "parcoords": [
           {
            "line": {
             "colorbar": {
              "outlinewidth": 0,
              "ticks": ""
             }
            },
            "type": "parcoords"
           }
          ],
          "pie": [
           {
            "automargin": true,
            "type": "pie"
           }
          ],
          "scatter": [
           {
            "marker": {
             "colorbar": {
              "outlinewidth": 0,
              "ticks": ""
             }
            },
            "type": "scatter"
           }
          ],
          "scatter3d": [
           {
            "line": {
             "colorbar": {
              "outlinewidth": 0,
              "ticks": ""
             }
            },
            "marker": {
             "colorbar": {
              "outlinewidth": 0,
              "ticks": ""
             }
            },
            "type": "scatter3d"
           }
          ],
          "scattercarpet": [
           {
            "marker": {
             "colorbar": {
              "outlinewidth": 0,
              "ticks": ""
             }
            },
            "type": "scattercarpet"
           }
          ],
          "scattergeo": [
           {
            "marker": {
             "colorbar": {
              "outlinewidth": 0,
              "ticks": ""
             }
            },
            "type": "scattergeo"
           }
          ],
          "scattergl": [
           {
            "marker": {
             "colorbar": {
              "outlinewidth": 0,
              "ticks": ""
             }
            },
            "type": "scattergl"
           }
          ],
          "scattermapbox": [
           {
            "marker": {
             "colorbar": {
              "outlinewidth": 0,
              "ticks": ""
             }
            },
            "type": "scattermapbox"
           }
          ],
          "scatterpolar": [
           {
            "marker": {
             "colorbar": {
              "outlinewidth": 0,
              "ticks": ""
             }
            },
            "type": "scatterpolar"
           }
          ],
          "scatterpolargl": [
           {
            "marker": {
             "colorbar": {
              "outlinewidth": 0,
              "ticks": ""
             }
            },
            "type": "scatterpolargl"
           }
          ],
          "scatterternary": [
           {
            "marker": {
             "colorbar": {
              "outlinewidth": 0,
              "ticks": ""
             }
            },
            "type": "scatterternary"
           }
          ],
          "surface": [
           {
            "colorbar": {
             "outlinewidth": 0,
             "ticks": ""
            },
            "colorscale": [
             [
              0.0,
              "#0d0887"
             ],
             [
              0.1111111111111111,
              "#46039f"
             ],
             [
              0.2222222222222222,
              "#7201a8"
             ],
             [
              0.3333333333333333,
              "#9c179e"
             ],
             [
              0.4444444444444444,
              "#bd3786"
             ],
             [
              0.5555555555555556,
              "#d8576b"
             ],
             [
              0.6666666666666666,
              "#ed7953"
             ],
             [
              0.7777777777777778,
              "#fb9f3a"
             ],
             [
              0.8888888888888888,
              "#fdca26"
             ],
             [
              1.0,
              "#f0f921"
             ]
            ],
            "type": "surface"
           }
          ],
          "table": [
           {
            "cells": {
             "fill": {
              "color": "#EBF0F8"
             },
             "line": {
              "color": "white"
             }
            },
            "header": {
             "fill": {
              "color": "#C8D4E3"
             },
             "line": {
              "color": "white"
             }
            },
            "type": "table"
           }
          ]
         },
         "layout": {
          "annotationdefaults": {
           "arrowcolor": "#2a3f5f",
           "arrowhead": 0,
           "arrowwidth": 1
          },
          "autotypenumbers": "strict",
          "coloraxis": {
           "colorbar": {
            "outlinewidth": 0,
            "ticks": ""
           }
          },
          "colorscale": {
           "diverging": [
            [
             0,
             "#8e0152"
            ],
            [
             0.1,
             "#c51b7d"
            ],
            [
             0.2,
             "#de77ae"
            ],
            [
             0.3,
             "#f1b6da"
            ],
            [
             0.4,
             "#fde0ef"
            ],
            [
             0.5,
             "#f7f7f7"
            ],
            [
             0.6,
             "#e6f5d0"
            ],
            [
             0.7,
             "#b8e186"
            ],
            [
             0.8,
             "#7fbc41"
            ],
            [
             0.9,
             "#4d9221"
            ],
            [
             1,
             "#276419"
            ]
           ],
           "sequential": [
            [
             0.0,
             "#0d0887"
            ],
            [
             0.1111111111111111,
             "#46039f"
            ],
            [
             0.2222222222222222,
             "#7201a8"
            ],
            [
             0.3333333333333333,
             "#9c179e"
            ],
            [
             0.4444444444444444,
             "#bd3786"
            ],
            [
             0.5555555555555556,
             "#d8576b"
            ],
            [
             0.6666666666666666,
             "#ed7953"
            ],
            [
             0.7777777777777778,
             "#fb9f3a"
            ],
            [
             0.8888888888888888,
             "#fdca26"
            ],
            [
             1.0,
             "#f0f921"
            ]
           ],
           "sequentialminus": [
            [
             0.0,
             "#0d0887"
            ],
            [
             0.1111111111111111,
             "#46039f"
            ],
            [
             0.2222222222222222,
             "#7201a8"
            ],
            [
             0.3333333333333333,
             "#9c179e"
            ],
            [
             0.4444444444444444,
             "#bd3786"
            ],
            [
             0.5555555555555556,
             "#d8576b"
            ],
            [
             0.6666666666666666,
             "#ed7953"
            ],
            [
             0.7777777777777778,
             "#fb9f3a"
            ],
            [
             0.8888888888888888,
             "#fdca26"
            ],
            [
             1.0,
             "#f0f921"
            ]
           ]
          },
          "colorway": [
           "#636efa",
           "#EF553B",
           "#00cc96",
           "#ab63fa",
           "#FFA15A",
           "#19d3f3",
           "#FF6692",
           "#B6E880",
           "#FF97FF",
           "#FECB52"
          ],
          "font": {
           "color": "#2a3f5f"
          },
          "geo": {
           "bgcolor": "white",
           "lakecolor": "white",
           "landcolor": "#E5ECF6",
           "showlakes": true,
           "showland": true,
           "subunitcolor": "white"
          },
          "hoverlabel": {
           "align": "left"
          },
          "hovermode": "closest",
          "mapbox": {
           "style": "light"
          },
          "paper_bgcolor": "white",
          "plot_bgcolor": "#E5ECF6",
          "polar": {
           "angularaxis": {
            "gridcolor": "white",
            "linecolor": "white",
            "ticks": ""
           },
           "bgcolor": "#E5ECF6",
           "radialaxis": {
            "gridcolor": "white",
            "linecolor": "white",
            "ticks": ""
           }
          },
          "scene": {
           "xaxis": {
            "backgroundcolor": "#E5ECF6",
            "gridcolor": "white",
            "gridwidth": 2,
            "linecolor": "white",
            "showbackground": true,
            "ticks": "",
            "zerolinecolor": "white"
           },
           "yaxis": {
            "backgroundcolor": "#E5ECF6",
            "gridcolor": "white",
            "gridwidth": 2,
            "linecolor": "white",
            "showbackground": true,
            "ticks": "",
            "zerolinecolor": "white"
           },
           "zaxis": {
            "backgroundcolor": "#E5ECF6",
            "gridcolor": "white",
            "gridwidth": 2,
            "linecolor": "white",
            "showbackground": true,
            "ticks": "",
            "zerolinecolor": "white"
           }
          },
          "shapedefaults": {
           "line": {
            "color": "#2a3f5f"
           }
          },
          "ternary": {
           "aaxis": {
            "gridcolor": "white",
            "linecolor": "white",
            "ticks": ""
           },
           "baxis": {
            "gridcolor": "white",
            "linecolor": "white",
            "ticks": ""
           },
           "bgcolor": "#E5ECF6",
           "caxis": {
            "gridcolor": "white",
            "linecolor": "white",
            "ticks": ""
           }
          },
          "title": {
           "x": 0.05
          },
          "xaxis": {
           "automargin": true,
           "gridcolor": "white",
           "linecolor": "white",
           "ticks": "",
           "title": {
            "standoff": 15
           },
           "zerolinecolor": "white",
           "zerolinewidth": 2
          },
          "yaxis": {
           "automargin": true,
           "gridcolor": "white",
           "linecolor": "white",
           "ticks": "",
           "title": {
            "standoff": 15
           },
           "zerolinecolor": "white",
           "zerolinewidth": 2
          }
         }
        }
       },
       "config": {
        "plotlyServerURL": "https://plot.ly"
       }
      },
      "text/html": "<div>                            <div id=\"e200afdc-0ae9-40e0-81a7-caed7763c428\" class=\"plotly-graph-div\" style=\"height:525px; width:100%;\"></div>            <script type=\"text/javascript\">                require([\"plotly\"], function(Plotly) {                    window.PLOTLYENV=window.PLOTLYENV || {};                                    if (document.getElementById(\"e200afdc-0ae9-40e0-81a7-caed7763c428\")) {                    Plotly.newPlot(                        \"e200afdc-0ae9-40e0-81a7-caed7763c428\",                        [{\"x\":[\"Dibrovka\",\"Inhulets_1\",\"Chechelnyk_2\",\"Chechelnyk_1\",\"Yelanets-1\",\"Balivka\",\"Inhulets_2\",\"Cherniatka\",\"Pohrebyshche\",\"Afanasiivka\",\"Bereznehuvate\",\"Teplychna\",\"Kylevcha\",\"Stepnohirsk\",\"Yelanets-2\",\"Bazaltova\",\"Porohy\",\"Bilashky\",\"Kyselivka\",\"Sharhorod-1\",\"Myroliubivka\",\"Poniativka\",\"Bilozerka\",\"Hlybochok_2.2\",\"Hnatkiv\",\"Hlybochok_2.1\",\"Kopaihorod\",\"Bar\",\"Kachkarivka\",\"Stanislavchyk\",\"Rubanivka\",\"Solone\",\"Komyshany_1\",\"Oleshky-1\",\"Oleshky-2\",\"Verkhivka\",\"Vasylivka\",\"Balky\",\"Komyshany_2\",\"Kostohryzove\",\"Liubymivka\",\"Hlybochok_1\",\"Mykolaivka\",\"Velihen\",\"Veliton\",\"Mala_Lepetykha\",\"Novokondakove\"],\"y\":[7580.0,4602.0,4500.0,4333.0,4193.0,3998.0,3316.0,3062.0,3048.0,2805.0,2750.0,2730.0,2347.0,2200.0,2136.0,2094.0,2032.0,2000.0,1990.0,1855.0,1713.0,1374.0,1356.0,1329.0,1150.0,916.0,900.0,794.0,756.0,756.0,732.0,713.0,676.0,645.0,641.0,635.0,588.0,555.0,525.0,504.0,500.0,381.0,200.0,156.0,52.0,44.0,-602.0],\"type\":\"scatter\"},{\"x\":[\"Dibrovka\",\"Inhulets_1\",\"Chechelnyk_2\",\"Chechelnyk_1\",\"Yelanets-1\",\"Balivka\",\"Inhulets_2\",\"Cherniatka\",\"Pohrebyshche\",\"Afanasiivka\",\"Bereznehuvate\",\"Teplychna\",\"Kylevcha\",\"Stepnohirsk\",\"Yelanets-2\",\"Bazaltova\",\"Porohy\",\"Bilashky\",\"Kyselivka\",\"Sharhorod-1\",\"Myroliubivka\",\"Poniativka\",\"Bilozerka\",\"Hlybochok_2.2\",\"Hnatkiv\",\"Hlybochok_2.1\",\"Kopaihorod\",\"Bar\",\"Kachkarivka\",\"Stanislavchyk\",\"Rubanivka\",\"Solone\",\"Komyshany_1\",\"Oleshky-1\",\"Oleshky-2\",\"Verkhivka\",\"Vasylivka\",\"Balky\",\"Komyshany_2\",\"Kostohryzove\",\"Liubymivka\",\"Hlybochok_1\",\"Mykolaivka\",\"Velihen\",\"Veliton\",\"Mala_Lepetykha\",\"Novokondakove\"],\"y\":[6991,10375,3267,3042,5988,3500,7717,2595,3065,6682,4154,3496,2348,2236,2986,5586,1513,2001,4297,2195,2674,3931,2014,1378,1706,921,1399,1344,917,2431,2537,1721,1182,3771,3204,547,6039,1473,950,2487,1739,344,621,576,233,606,2645],\"type\":\"scatter\"},{\"x\":[\"Dibrovka\",\"Inhulets_1\",\"Chechelnyk_2\",\"Chechelnyk_1\",\"Yelanets-1\",\"Balivka\",\"Inhulets_2\",\"Cherniatka\",\"Pohrebyshche\",\"Afanasiivka\",\"Bereznehuvate\",\"Teplychna\",\"Kylevcha\",\"Stepnohirsk\",\"Yelanets-2\",\"Bazaltova\",\"Porohy\",\"Bilashky\",\"Kyselivka\",\"Sharhorod-1\",\"Myroliubivka\",\"Poniativka\",\"Bilozerka\",\"Hlybochok_2.2\",\"Hnatkiv\",\"Hlybochok_2.1\",\"Kopaihorod\",\"Bar\",\"Kachkarivka\",\"Stanislavchyk\",\"Rubanivka\",\"Solone\",\"Komyshany_1\",\"Oleshky-1\",\"Oleshky-2\",\"Verkhivka\",\"Vasylivka\",\"Balky\",\"Komyshany_2\",\"Kostohryzove\",\"Liubymivka\",\"Hlybochok_1\",\"Mykolaivka\",\"Velihen\",\"Veliton\",\"Mala_Lepetykha\",\"Novokondakove\"],\"y\":[-1252,-6887,-619,-781,-1979,-2356,-5007,-551,-1488,-4365,-2144,-1451,-1007,-1565,-926,-3748,-489,-1176,-3041,-665,-1524,-2744,-1405,-448,-682,-280,-843,-669,-605,-1855,-2072,-1190,-686,-3291,-2575,-131,-5728,-1047,-555,-2044,-1324,-203,-535,-593,-245,-578,-3269],\"type\":\"bar\"},{\"x\":[\"Dibrovka\",\"Inhulets_1\",\"Chechelnyk_2\",\"Chechelnyk_1\",\"Yelanets-1\",\"Balivka\",\"Inhulets_2\",\"Cherniatka\",\"Pohrebyshche\",\"Afanasiivka\",\"Bereznehuvate\",\"Teplychna\",\"Kylevcha\",\"Stepnohirsk\",\"Yelanets-2\",\"Bazaltova\",\"Porohy\",\"Bilashky\",\"Kyselivka\",\"Sharhorod-1\",\"Myroliubivka\",\"Poniativka\",\"Bilozerka\",\"Hlybochok_2.2\",\"Hnatkiv\",\"Hlybochok_2.1\",\"Kopaihorod\",\"Bar\",\"Kachkarivka\",\"Stanislavchyk\",\"Rubanivka\",\"Solone\",\"Komyshany_1\",\"Oleshky-1\",\"Oleshky-2\",\"Verkhivka\",\"Vasylivka\",\"Balky\",\"Komyshany_2\",\"Kostohryzove\",\"Liubymivka\",\"Hlybochok_1\",\"Mykolaivka\",\"Velihen\",\"Veliton\",\"Mala_Lepetykha\",\"Novokondakove\"],\"y\":[1841,1114,1852,2072,184,2854,606,1018,1471,488,740,685,1006,1529,76,256,1008,1175,734,325,563,187,747,399,126,275,344,119,444,180,267,182,180,165,12,219,277,129,130,61,85,240,114,173,64,16,22],\"type\":\"bar\"}],                        {\"template\":{\"data\":{\"bar\":[{\"error_x\":{\"color\":\"#2a3f5f\"},\"error_y\":{\"color\":\"#2a3f5f\"},\"marker\":{\"line\":{\"color\":\"#E5ECF6\",\"width\":0.5},\"pattern\":{\"fillmode\":\"overlay\",\"size\":10,\"solidity\":0.2}},\"type\":\"bar\"}],\"barpolar\":[{\"marker\":{\"line\":{\"color\":\"#E5ECF6\",\"width\":0.5},\"pattern\":{\"fillmode\":\"overlay\",\"size\":10,\"solidity\":0.2}},\"type\":\"barpolar\"}],\"carpet\":[{\"aaxis\":{\"endlinecolor\":\"#2a3f5f\",\"gridcolor\":\"white\",\"linecolor\":\"white\",\"minorgridcolor\":\"white\",\"startlinecolor\":\"#2a3f5f\"},\"baxis\":{\"endlinecolor\":\"#2a3f5f\",\"gridcolor\":\"white\",\"linecolor\":\"white\",\"minorgridcolor\":\"white\",\"startlinecolor\":\"#2a3f5f\"},\"type\":\"carpet\"}],\"choropleth\":[{\"colorbar\":{\"outlinewidth\":0,\"ticks\":\"\"},\"type\":\"choropleth\"}],\"contour\":[{\"colorbar\":{\"outlinewidth\":0,\"ticks\":\"\"},\"colorscale\":[[0.0,\"#0d0887\"],[0.1111111111111111,\"#46039f\"],[0.2222222222222222,\"#7201a8\"],[0.3333333333333333,\"#9c179e\"],[0.4444444444444444,\"#bd3786\"],[0.5555555555555556,\"#d8576b\"],[0.6666666666666666,\"#ed7953\"],[0.7777777777777778,\"#fb9f3a\"],[0.8888888888888888,\"#fdca26\"],[1.0,\"#f0f921\"]],\"type\":\"contour\"}],\"contourcarpet\":[{\"colorbar\":{\"outlinewidth\":0,\"ticks\":\"\"},\"type\":\"contourcarpet\"}],\"heatmap\":[{\"colorbar\":{\"outlinewidth\":0,\"ticks\":\"\"},\"colorscale\":[[0.0,\"#0d0887\"],[0.1111111111111111,\"#46039f\"],[0.2222222222222222,\"#7201a8\"],[0.3333333333333333,\"#9c179e\"],[0.4444444444444444,\"#bd3786\"],[0.5555555555555556,\"#d8576b\"],[0.6666666666666666,\"#ed7953\"],[0.7777777777777778,\"#fb9f3a\"],[0.8888888888888888,\"#fdca26\"],[1.0,\"#f0f921\"]],\"type\":\"heatmap\"}],\"heatmapgl\":[{\"colorbar\":{\"outlinewidth\":0,\"ticks\":\"\"},\"colorscale\":[[0.0,\"#0d0887\"],[0.1111111111111111,\"#46039f\"],[0.2222222222222222,\"#7201a8\"],[0.3333333333333333,\"#9c179e\"],[0.4444444444444444,\"#bd3786\"],[0.5555555555555556,\"#d8576b\"],[0.6666666666666666,\"#ed7953\"],[0.7777777777777778,\"#fb9f3a\"],[0.8888888888888888,\"#fdca26\"],[1.0,\"#f0f921\"]],\"type\":\"heatmapgl\"}],\"histogram\":[{\"marker\":{\"pattern\":{\"fillmode\":\"overlay\",\"size\":10,\"solidity\":0.2}},\"type\":\"histogram\"}],\"histogram2d\":[{\"colorbar\":{\"outlinewidth\":0,\"ticks\":\"\"},\"colorscale\":[[0.0,\"#0d0887\"],[0.1111111111111111,\"#46039f\"],[0.2222222222222222,\"#7201a8\"],[0.3333333333333333,\"#9c179e\"],[0.4444444444444444,\"#bd3786\"],[0.5555555555555556,\"#d8576b\"],[0.6666666666666666,\"#ed7953\"],[0.7777777777777778,\"#fb9f3a\"],[0.8888888888888888,\"#fdca26\"],[1.0,\"#f0f921\"]],\"type\":\"histogram2d\"}],\"histogram2dcontour\":[{\"colorbar\":{\"outlinewidth\":0,\"ticks\":\"\"},\"colorscale\":[[0.0,\"#0d0887\"],[0.1111111111111111,\"#46039f\"],[0.2222222222222222,\"#7201a8\"],[0.3333333333333333,\"#9c179e\"],[0.4444444444444444,\"#bd3786\"],[0.5555555555555556,\"#d8576b\"],[0.6666666666666666,\"#ed7953\"],[0.7777777777777778,\"#fb9f3a\"],[0.8888888888888888,\"#fdca26\"],[1.0,\"#f0f921\"]],\"type\":\"histogram2dcontour\"}],\"mesh3d\":[{\"colorbar\":{\"outlinewidth\":0,\"ticks\":\"\"},\"type\":\"mesh3d\"}],\"parcoords\":[{\"line\":{\"colorbar\":{\"outlinewidth\":0,\"ticks\":\"\"}},\"type\":\"parcoords\"}],\"pie\":[{\"automargin\":true,\"type\":\"pie\"}],\"scatter\":[{\"marker\":{\"colorbar\":{\"outlinewidth\":0,\"ticks\":\"\"}},\"type\":\"scatter\"}],\"scatter3d\":[{\"line\":{\"colorbar\":{\"outlinewidth\":0,\"ticks\":\"\"}},\"marker\":{\"colorbar\":{\"outlinewidth\":0,\"ticks\":\"\"}},\"type\":\"scatter3d\"}],\"scattercarpet\":[{\"marker\":{\"colorbar\":{\"outlinewidth\":0,\"ticks\":\"\"}},\"type\":\"scattercarpet\"}],\"scattergeo\":[{\"marker\":{\"colorbar\":{\"outlinewidth\":0,\"ticks\":\"\"}},\"type\":\"scattergeo\"}],\"scattergl\":[{\"marker\":{\"colorbar\":{\"outlinewidth\":0,\"ticks\":\"\"}},\"type\":\"scattergl\"}],\"scattermapbox\":[{\"marker\":{\"colorbar\":{\"outlinewidth\":0,\"ticks\":\"\"}},\"type\":\"scattermapbox\"}],\"scatterpolar\":[{\"marker\":{\"colorbar\":{\"outlinewidth\":0,\"ticks\":\"\"}},\"type\":\"scatterpolar\"}],\"scatterpolargl\":[{\"marker\":{\"colorbar\":{\"outlinewidth\":0,\"ticks\":\"\"}},\"type\":\"scatterpolargl\"}],\"scatterternary\":[{\"marker\":{\"colorbar\":{\"outlinewidth\":0,\"ticks\":\"\"}},\"type\":\"scatterternary\"}],\"surface\":[{\"colorbar\":{\"outlinewidth\":0,\"ticks\":\"\"},\"colorscale\":[[0.0,\"#0d0887\"],[0.1111111111111111,\"#46039f\"],[0.2222222222222222,\"#7201a8\"],[0.3333333333333333,\"#9c179e\"],[0.4444444444444444,\"#bd3786\"],[0.5555555555555556,\"#d8576b\"],[0.6666666666666666,\"#ed7953\"],[0.7777777777777778,\"#fb9f3a\"],[0.8888888888888888,\"#fdca26\"],[1.0,\"#f0f921\"]],\"type\":\"surface\"}],\"table\":[{\"cells\":{\"fill\":{\"color\":\"#EBF0F8\"},\"line\":{\"color\":\"white\"}},\"header\":{\"fill\":{\"color\":\"#C8D4E3\"},\"line\":{\"color\":\"white\"}},\"type\":\"table\"}]},\"layout\":{\"annotationdefaults\":{\"arrowcolor\":\"#2a3f5f\",\"arrowhead\":0,\"arrowwidth\":1},\"autotypenumbers\":\"strict\",\"coloraxis\":{\"colorbar\":{\"outlinewidth\":0,\"ticks\":\"\"}},\"colorscale\":{\"diverging\":[[0,\"#8e0152\"],[0.1,\"#c51b7d\"],[0.2,\"#de77ae\"],[0.3,\"#f1b6da\"],[0.4,\"#fde0ef\"],[0.5,\"#f7f7f7\"],[0.6,\"#e6f5d0\"],[0.7,\"#b8e186\"],[0.8,\"#7fbc41\"],[0.9,\"#4d9221\"],[1,\"#276419\"]],\"sequential\":[[0.0,\"#0d0887\"],[0.1111111111111111,\"#46039f\"],[0.2222222222222222,\"#7201a8\"],[0.3333333333333333,\"#9c179e\"],[0.4444444444444444,\"#bd3786\"],[0.5555555555555556,\"#d8576b\"],[0.6666666666666666,\"#ed7953\"],[0.7777777777777778,\"#fb9f3a\"],[0.8888888888888888,\"#fdca26\"],[1.0,\"#f0f921\"]],\"sequentialminus\":[[0.0,\"#0d0887\"],[0.1111111111111111,\"#46039f\"],[0.2222222222222222,\"#7201a8\"],[0.3333333333333333,\"#9c179e\"],[0.4444444444444444,\"#bd3786\"],[0.5555555555555556,\"#d8576b\"],[0.6666666666666666,\"#ed7953\"],[0.7777777777777778,\"#fb9f3a\"],[0.8888888888888888,\"#fdca26\"],[1.0,\"#f0f921\"]]},\"colorway\":[\"#636efa\",\"#EF553B\",\"#00cc96\",\"#ab63fa\",\"#FFA15A\",\"#19d3f3\",\"#FF6692\",\"#B6E880\",\"#FF97FF\",\"#FECB52\"],\"font\":{\"color\":\"#2a3f5f\"},\"geo\":{\"bgcolor\":\"white\",\"lakecolor\":\"white\",\"landcolor\":\"#E5ECF6\",\"showlakes\":true,\"showland\":true,\"subunitcolor\":\"white\"},\"hoverlabel\":{\"align\":\"left\"},\"hovermode\":\"closest\",\"mapbox\":{\"style\":\"light\"},\"paper_bgcolor\":\"white\",\"plot_bgcolor\":\"#E5ECF6\",\"polar\":{\"angularaxis\":{\"gridcolor\":\"white\",\"linecolor\":\"white\",\"ticks\":\"\"},\"bgcolor\":\"#E5ECF6\",\"radialaxis\":{\"gridcolor\":\"white\",\"linecolor\":\"white\",\"ticks\":\"\"}},\"scene\":{\"xaxis\":{\"backgroundcolor\":\"#E5ECF6\",\"gridcolor\":\"white\",\"gridwidth\":2,\"linecolor\":\"white\",\"showbackground\":true,\"ticks\":\"\",\"zerolinecolor\":\"white\"},\"yaxis\":{\"backgroundcolor\":\"#E5ECF6\",\"gridcolor\":\"white\",\"gridwidth\":2,\"linecolor\":\"white\",\"showbackground\":true,\"ticks\":\"\",\"zerolinecolor\":\"white\"},\"zaxis\":{\"backgroundcolor\":\"#E5ECF6\",\"gridcolor\":\"white\",\"gridwidth\":2,\"linecolor\":\"white\",\"showbackground\":true,\"ticks\":\"\",\"zerolinecolor\":\"white\"}},\"shapedefaults\":{\"line\":{\"color\":\"#2a3f5f\"}},\"ternary\":{\"aaxis\":{\"gridcolor\":\"white\",\"linecolor\":\"white\",\"ticks\":\"\"},\"baxis\":{\"gridcolor\":\"white\",\"linecolor\":\"white\",\"ticks\":\"\"},\"bgcolor\":\"#E5ECF6\",\"caxis\":{\"gridcolor\":\"white\",\"linecolor\":\"white\",\"ticks\":\"\"}},\"title\":{\"x\":0.05},\"xaxis\":{\"automargin\":true,\"gridcolor\":\"white\",\"linecolor\":\"white\",\"ticks\":\"\",\"title\":{\"standoff\":15},\"zerolinecolor\":\"white\",\"zerolinewidth\":2},\"yaxis\":{\"automargin\":true,\"gridcolor\":\"white\",\"linecolor\":\"white\",\"ticks\":\"\",\"title\":{\"standoff\":15},\"zerolinecolor\":\"white\",\"zerolinewidth\":2}}}},                        {\"responsive\": true}                    ).then(function(){\n                            \nvar gd = document.getElementById('e200afdc-0ae9-40e0-81a7-caed7763c428');\nvar x = new MutationObserver(function (mutations, observer) {{\n        var display = window.getComputedStyle(gd).display;\n        if (!display || display === 'none') {{\n            console.log([gd, 'removed!']);\n            Plotly.purge(gd);\n            observer.disconnect();\n        }}\n}});\n\n// Listen for the removal of the full notebook cells\nvar notebookContainer = gd.closest('#notebook-container');\nif (notebookContainer) {{\n    x.observe(notebookContainer, {childList: true});\n}}\n\n// Listen for the clearing of the current output cell\nvar outputEl = gd.closest('.output');\nif (outputEl) {{\n    x.observe(outputEl, {childList: true});\n}}\n\n                        })                };                });            </script>        </div>"
     },
     "metadata": {},
     "output_type": "display_data"
    }
   ],
   "source": [
    "def draw_all_station_chart(df, sort_by='yeild'):\n",
    "    df = df.sort_values('yeild', ascending=False)\n",
    "    fig = go.Figure()\n",
    "    fig.add_trace(\n",
    "        go.Scatter(\n",
    "            x=df.index.get_level_values(0),\n",
    "            y=df.yeild\n",
    "        )\n",
    "    )\n",
    "    fig.add_trace(\n",
    "        go.Scatter(\n",
    "            x=df.index.get_level_values(0),\n",
    "            y=df.forecast\n",
    "        )\n",
    "    )\n",
    "    fig.add_trace(\n",
    "        go.Bar(\n",
    "            x=df.index.get_level_values(0),\n",
    "            y=df.error_shortage\n",
    "        )\n",
    "    )\n",
    "    fig.add_trace(\n",
    "        go.Bar(\n",
    "            x=df.index.get_level_values(0),\n",
    "            y=df.error_excess\n",
    "        )\n",
    "    )\n",
    "    return fig\n"
   ],
   "metadata": {
    "collapsed": false,
    "pycharm": {
     "name": "#%%\n"
    }
   }
  },
  {
   "cell_type": "code",
   "execution_count": 105,
   "outputs": [
    {
     "data": {
      "application/vnd.plotly.v1+json": {
       "data": [
        {
         "x": [
          1,
          2,
          3,
          4,
          5,
          6,
          7,
          8,
          9,
          10,
          11,
          12,
          13,
          14,
          15,
          16,
          17,
          18,
          19,
          20,
          21,
          22,
          23,
          24
         ],
         "y": [
          -27.0,
          -55.0,
          -28.0,
          -54.0,
          -28.0,
          -54.0,
          -28.0,
          -55.0,
          210.0,
          399.0,
          1386.0,
          1617.0,
          1617.0,
          1092.0,
          672.0,
          231.0,
          -54.0,
          -28.0,
          -27.0,
          -55.0,
          -27.0,
          -55.0,
          -27.0,
          -28.0
         ],
         "type": "scatter"
        },
        {
         "x": [
          1,
          2,
          3,
          4,
          5,
          6,
          7,
          8,
          9,
          10,
          11,
          12,
          13,
          14,
          15,
          16,
          17,
          18,
          19,
          20,
          21,
          22,
          23,
          24
         ],
         "y": [
          0,
          -11,
          0,
          -10,
          0,
          -10,
          0,
          -11,
          0,
          -189,
          0,
          -1035,
          -1375,
          -1329,
          -750,
          0,
          -10,
          0,
          0,
          -11,
          0,
          -11,
          0,
          0
         ],
         "type": "bar"
        },
        {
         "x": [
          1,
          2,
          3,
          4,
          5,
          6,
          7,
          8,
          9,
          10,
          11,
          12,
          13,
          14,
          15,
          16,
          17,
          18,
          19,
          20,
          21,
          22,
          23,
          24
         ],
         "y": [
          17,
          0,
          16,
          0,
          16,
          0,
          16,
          0,
          84,
          0,
          128,
          0,
          0,
          0,
          0,
          58,
          0,
          16,
          17,
          0,
          17,
          0,
          17,
          16
         ],
         "type": "bar"
        }
       ],
       "layout": {
        "template": {
         "data": {
          "bar": [
           {
            "error_x": {
             "color": "#2a3f5f"
            },
            "error_y": {
             "color": "#2a3f5f"
            },
            "marker": {
             "line": {
              "color": "#E5ECF6",
              "width": 0.5
             },
             "pattern": {
              "fillmode": "overlay",
              "size": 10,
              "solidity": 0.2
             }
            },
            "type": "bar"
           }
          ],
          "barpolar": [
           {
            "marker": {
             "line": {
              "color": "#E5ECF6",
              "width": 0.5
             },
             "pattern": {
              "fillmode": "overlay",
              "size": 10,
              "solidity": 0.2
             }
            },
            "type": "barpolar"
           }
          ],
          "carpet": [
           {
            "aaxis": {
             "endlinecolor": "#2a3f5f",
             "gridcolor": "white",
             "linecolor": "white",
             "minorgridcolor": "white",
             "startlinecolor": "#2a3f5f"
            },
            "baxis": {
             "endlinecolor": "#2a3f5f",
             "gridcolor": "white",
             "linecolor": "white",
             "minorgridcolor": "white",
             "startlinecolor": "#2a3f5f"
            },
            "type": "carpet"
           }
          ],
          "choropleth": [
           {
            "colorbar": {
             "outlinewidth": 0,
             "ticks": ""
            },
            "type": "choropleth"
           }
          ],
          "contour": [
           {
            "colorbar": {
             "outlinewidth": 0,
             "ticks": ""
            },
            "colorscale": [
             [
              0.0,
              "#0d0887"
             ],
             [
              0.1111111111111111,
              "#46039f"
             ],
             [
              0.2222222222222222,
              "#7201a8"
             ],
             [
              0.3333333333333333,
              "#9c179e"
             ],
             [
              0.4444444444444444,
              "#bd3786"
             ],
             [
              0.5555555555555556,
              "#d8576b"
             ],
             [
              0.6666666666666666,
              "#ed7953"
             ],
             [
              0.7777777777777778,
              "#fb9f3a"
             ],
             [
              0.8888888888888888,
              "#fdca26"
             ],
             [
              1.0,
              "#f0f921"
             ]
            ],
            "type": "contour"
           }
          ],
          "contourcarpet": [
           {
            "colorbar": {
             "outlinewidth": 0,
             "ticks": ""
            },
            "type": "contourcarpet"
           }
          ],
          "heatmap": [
           {
            "colorbar": {
             "outlinewidth": 0,
             "ticks": ""
            },
            "colorscale": [
             [
              0.0,
              "#0d0887"
             ],
             [
              0.1111111111111111,
              "#46039f"
             ],
             [
              0.2222222222222222,
              "#7201a8"
             ],
             [
              0.3333333333333333,
              "#9c179e"
             ],
             [
              0.4444444444444444,
              "#bd3786"
             ],
             [
              0.5555555555555556,
              "#d8576b"
             ],
             [
              0.6666666666666666,
              "#ed7953"
             ],
             [
              0.7777777777777778,
              "#fb9f3a"
             ],
             [
              0.8888888888888888,
              "#fdca26"
             ],
             [
              1.0,
              "#f0f921"
             ]
            ],
            "type": "heatmap"
           }
          ],
          "heatmapgl": [
           {
            "colorbar": {
             "outlinewidth": 0,
             "ticks": ""
            },
            "colorscale": [
             [
              0.0,
              "#0d0887"
             ],
             [
              0.1111111111111111,
              "#46039f"
             ],
             [
              0.2222222222222222,
              "#7201a8"
             ],
             [
              0.3333333333333333,
              "#9c179e"
             ],
             [
              0.4444444444444444,
              "#bd3786"
             ],
             [
              0.5555555555555556,
              "#d8576b"
             ],
             [
              0.6666666666666666,
              "#ed7953"
             ],
             [
              0.7777777777777778,
              "#fb9f3a"
             ],
             [
              0.8888888888888888,
              "#fdca26"
             ],
             [
              1.0,
              "#f0f921"
             ]
            ],
            "type": "heatmapgl"
           }
          ],
          "histogram": [
           {
            "marker": {
             "pattern": {
              "fillmode": "overlay",
              "size": 10,
              "solidity": 0.2
             }
            },
            "type": "histogram"
           }
          ],
          "histogram2d": [
           {
            "colorbar": {
             "outlinewidth": 0,
             "ticks": ""
            },
            "colorscale": [
             [
              0.0,
              "#0d0887"
             ],
             [
              0.1111111111111111,
              "#46039f"
             ],
             [
              0.2222222222222222,
              "#7201a8"
             ],
             [
              0.3333333333333333,
              "#9c179e"
             ],
             [
              0.4444444444444444,
              "#bd3786"
             ],
             [
              0.5555555555555556,
              "#d8576b"
             ],
             [
              0.6666666666666666,
              "#ed7953"
             ],
             [
              0.7777777777777778,
              "#fb9f3a"
             ],
             [
              0.8888888888888888,
              "#fdca26"
             ],
             [
              1.0,
              "#f0f921"
             ]
            ],
            "type": "histogram2d"
           }
          ],
          "histogram2dcontour": [
           {
            "colorbar": {
             "outlinewidth": 0,
             "ticks": ""
            },
            "colorscale": [
             [
              0.0,
              "#0d0887"
             ],
             [
              0.1111111111111111,
              "#46039f"
             ],
             [
              0.2222222222222222,
              "#7201a8"
             ],
             [
              0.3333333333333333,
              "#9c179e"
             ],
             [
              0.4444444444444444,
              "#bd3786"
             ],
             [
              0.5555555555555556,
              "#d8576b"
             ],
             [
              0.6666666666666666,
              "#ed7953"
             ],
             [
              0.7777777777777778,
              "#fb9f3a"
             ],
             [
              0.8888888888888888,
              "#fdca26"
             ],
             [
              1.0,
              "#f0f921"
             ]
            ],
            "type": "histogram2dcontour"
           }
          ],
          "mesh3d": [
           {
            "colorbar": {
             "outlinewidth": 0,
             "ticks": ""
            },
            "type": "mesh3d"
           }
          ],
          "parcoords": [
           {
            "line": {
             "colorbar": {
              "outlinewidth": 0,
              "ticks": ""
             }
            },
            "type": "parcoords"
           }
          ],
          "pie": [
           {
            "automargin": true,
            "type": "pie"
           }
          ],
          "scatter": [
           {
            "marker": {
             "colorbar": {
              "outlinewidth": 0,
              "ticks": ""
             }
            },
            "type": "scatter"
           }
          ],
          "scatter3d": [
           {
            "line": {
             "colorbar": {
              "outlinewidth": 0,
              "ticks": ""
             }
            },
            "marker": {
             "colorbar": {
              "outlinewidth": 0,
              "ticks": ""
             }
            },
            "type": "scatter3d"
           }
          ],
          "scattercarpet": [
           {
            "marker": {
             "colorbar": {
              "outlinewidth": 0,
              "ticks": ""
             }
            },
            "type": "scattercarpet"
           }
          ],
          "scattergeo": [
           {
            "marker": {
             "colorbar": {
              "outlinewidth": 0,
              "ticks": ""
             }
            },
            "type": "scattergeo"
           }
          ],
          "scattergl": [
           {
            "marker": {
             "colorbar": {
              "outlinewidth": 0,
              "ticks": ""
             }
            },
            "type": "scattergl"
           }
          ],
          "scattermapbox": [
           {
            "marker": {
             "colorbar": {
              "outlinewidth": 0,
              "ticks": ""
             }
            },
            "type": "scattermapbox"
           }
          ],
          "scatterpolar": [
           {
            "marker": {
             "colorbar": {
              "outlinewidth": 0,
              "ticks": ""
             }
            },
            "type": "scatterpolar"
           }
          ],
          "scatterpolargl": [
           {
            "marker": {
             "colorbar": {
              "outlinewidth": 0,
              "ticks": ""
             }
            },
            "type": "scatterpolargl"
           }
          ],
          "scatterternary": [
           {
            "marker": {
             "colorbar": {
              "outlinewidth": 0,
              "ticks": ""
             }
            },
            "type": "scatterternary"
           }
          ],
          "surface": [
           {
            "colorbar": {
             "outlinewidth": 0,
             "ticks": ""
            },
            "colorscale": [
             [
              0.0,
              "#0d0887"
             ],
             [
              0.1111111111111111,
              "#46039f"
             ],
             [
              0.2222222222222222,
              "#7201a8"
             ],
             [
              0.3333333333333333,
              "#9c179e"
             ],
             [
              0.4444444444444444,
              "#bd3786"
             ],
             [
              0.5555555555555556,
              "#d8576b"
             ],
             [
              0.6666666666666666,
              "#ed7953"
             ],
             [
              0.7777777777777778,
              "#fb9f3a"
             ],
             [
              0.8888888888888888,
              "#fdca26"
             ],
             [
              1.0,
              "#f0f921"
             ]
            ],
            "type": "surface"
           }
          ],
          "table": [
           {
            "cells": {
             "fill": {
              "color": "#EBF0F8"
             },
             "line": {
              "color": "white"
             }
            },
            "header": {
             "fill": {
              "color": "#C8D4E3"
             },
             "line": {
              "color": "white"
             }
            },
            "type": "table"
           }
          ]
         },
         "layout": {
          "annotationdefaults": {
           "arrowcolor": "#2a3f5f",
           "arrowhead": 0,
           "arrowwidth": 1
          },
          "autotypenumbers": "strict",
          "coloraxis": {
           "colorbar": {
            "outlinewidth": 0,
            "ticks": ""
           }
          },
          "colorscale": {
           "diverging": [
            [
             0,
             "#8e0152"
            ],
            [
             0.1,
             "#c51b7d"
            ],
            [
             0.2,
             "#de77ae"
            ],
            [
             0.3,
             "#f1b6da"
            ],
            [
             0.4,
             "#fde0ef"
            ],
            [
             0.5,
             "#f7f7f7"
            ],
            [
             0.6,
             "#e6f5d0"
            ],
            [
             0.7,
             "#b8e186"
            ],
            [
             0.8,
             "#7fbc41"
            ],
            [
             0.9,
             "#4d9221"
            ],
            [
             1,
             "#276419"
            ]
           ],
           "sequential": [
            [
             0.0,
             "#0d0887"
            ],
            [
             0.1111111111111111,
             "#46039f"
            ],
            [
             0.2222222222222222,
             "#7201a8"
            ],
            [
             0.3333333333333333,
             "#9c179e"
            ],
            [
             0.4444444444444444,
             "#bd3786"
            ],
            [
             0.5555555555555556,
             "#d8576b"
            ],
            [
             0.6666666666666666,
             "#ed7953"
            ],
            [
             0.7777777777777778,
             "#fb9f3a"
            ],
            [
             0.8888888888888888,
             "#fdca26"
            ],
            [
             1.0,
             "#f0f921"
            ]
           ],
           "sequentialminus": [
            [
             0.0,
             "#0d0887"
            ],
            [
             0.1111111111111111,
             "#46039f"
            ],
            [
             0.2222222222222222,
             "#7201a8"
            ],
            [
             0.3333333333333333,
             "#9c179e"
            ],
            [
             0.4444444444444444,
             "#bd3786"
            ],
            [
             0.5555555555555556,
             "#d8576b"
            ],
            [
             0.6666666666666666,
             "#ed7953"
            ],
            [
             0.7777777777777778,
             "#fb9f3a"
            ],
            [
             0.8888888888888888,
             "#fdca26"
            ],
            [
             1.0,
             "#f0f921"
            ]
           ]
          },
          "colorway": [
           "#636efa",
           "#EF553B",
           "#00cc96",
           "#ab63fa",
           "#FFA15A",
           "#19d3f3",
           "#FF6692",
           "#B6E880",
           "#FF97FF",
           "#FECB52"
          ],
          "font": {
           "color": "#2a3f5f"
          },
          "geo": {
           "bgcolor": "white",
           "lakecolor": "white",
           "landcolor": "#E5ECF6",
           "showlakes": true,
           "showland": true,
           "subunitcolor": "white"
          },
          "hoverlabel": {
           "align": "left"
          },
          "hovermode": "closest",
          "mapbox": {
           "style": "light"
          },
          "paper_bgcolor": "white",
          "plot_bgcolor": "#E5ECF6",
          "polar": {
           "angularaxis": {
            "gridcolor": "white",
            "linecolor": "white",
            "ticks": ""
           },
           "bgcolor": "#E5ECF6",
           "radialaxis": {
            "gridcolor": "white",
            "linecolor": "white",
            "ticks": ""
           }
          },
          "scene": {
           "xaxis": {
            "backgroundcolor": "#E5ECF6",
            "gridcolor": "white",
            "gridwidth": 2,
            "linecolor": "white",
            "showbackground": true,
            "ticks": "",
            "zerolinecolor": "white"
           },
           "yaxis": {
            "backgroundcolor": "#E5ECF6",
            "gridcolor": "white",
            "gridwidth": 2,
            "linecolor": "white",
            "showbackground": true,
            "ticks": "",
            "zerolinecolor": "white"
           },
           "zaxis": {
            "backgroundcolor": "#E5ECF6",
            "gridcolor": "white",
            "gridwidth": 2,
            "linecolor": "white",
            "showbackground": true,
            "ticks": "",
            "zerolinecolor": "white"
           }
          },
          "shapedefaults": {
           "line": {
            "color": "#2a3f5f"
           }
          },
          "ternary": {
           "aaxis": {
            "gridcolor": "white",
            "linecolor": "white",
            "ticks": ""
           },
           "baxis": {
            "gridcolor": "white",
            "linecolor": "white",
            "ticks": ""
           },
           "bgcolor": "#E5ECF6",
           "caxis": {
            "gridcolor": "white",
            "linecolor": "white",
            "ticks": ""
           }
          },
          "title": {
           "x": 0.05
          },
          "xaxis": {
           "automargin": true,
           "gridcolor": "white",
           "linecolor": "white",
           "ticks": "",
           "title": {
            "standoff": 15
           },
           "zerolinecolor": "white",
           "zerolinewidth": 2
          },
          "yaxis": {
           "automargin": true,
           "gridcolor": "white",
           "linecolor": "white",
           "ticks": "",
           "title": {
            "standoff": 15
           },
           "zerolinecolor": "white",
           "zerolinewidth": 2
          }
         }
        }
       },
       "config": {
        "plotlyServerURL": "https://plot.ly"
       }
      },
      "text/html": "<div>                            <div id=\"36daae7f-4c99-4a96-8545-4d09765e1463\" class=\"plotly-graph-div\" style=\"height:525px; width:100%;\"></div>            <script type=\"text/javascript\">                require([\"plotly\"], function(Plotly) {                    window.PLOTLYENV=window.PLOTLYENV || {};                                    if (document.getElementById(\"36daae7f-4c99-4a96-8545-4d09765e1463\")) {                    Plotly.newPlot(                        \"36daae7f-4c99-4a96-8545-4d09765e1463\",                        [{\"x\":[1,2,3,4,5,6,7,8,9,10,11,12,13,14,15,16,17,18,19,20,21,22,23,24],\"y\":[-27.0,-55.0,-28.0,-54.0,-28.0,-54.0,-28.0,-55.0,210.0,399.0,1386.0,1617.0,1617.0,1092.0,672.0,231.0,-54.0,-28.0,-27.0,-55.0,-27.0,-55.0,-27.0,-28.0],\"type\":\"scatter\"},{\"x\":[1,2,3,4,5,6,7,8,9,10,11,12,13,14,15,16,17,18,19,20,21,22,23,24],\"y\":[0,-11,0,-10,0,-10,0,-11,0,-189,0,-1035,-1375,-1329,-750,0,-10,0,0,-11,0,-11,0,0],\"type\":\"bar\"},{\"x\":[1,2,3,4,5,6,7,8,9,10,11,12,13,14,15,16,17,18,19,20,21,22,23,24],\"y\":[17,0,16,0,16,0,16,0,84,0,128,0,0,0,0,58,0,16,17,0,17,0,17,16],\"type\":\"bar\"}],                        {\"template\":{\"data\":{\"bar\":[{\"error_x\":{\"color\":\"#2a3f5f\"},\"error_y\":{\"color\":\"#2a3f5f\"},\"marker\":{\"line\":{\"color\":\"#E5ECF6\",\"width\":0.5},\"pattern\":{\"fillmode\":\"overlay\",\"size\":10,\"solidity\":0.2}},\"type\":\"bar\"}],\"barpolar\":[{\"marker\":{\"line\":{\"color\":\"#E5ECF6\",\"width\":0.5},\"pattern\":{\"fillmode\":\"overlay\",\"size\":10,\"solidity\":0.2}},\"type\":\"barpolar\"}],\"carpet\":[{\"aaxis\":{\"endlinecolor\":\"#2a3f5f\",\"gridcolor\":\"white\",\"linecolor\":\"white\",\"minorgridcolor\":\"white\",\"startlinecolor\":\"#2a3f5f\"},\"baxis\":{\"endlinecolor\":\"#2a3f5f\",\"gridcolor\":\"white\",\"linecolor\":\"white\",\"minorgridcolor\":\"white\",\"startlinecolor\":\"#2a3f5f\"},\"type\":\"carpet\"}],\"choropleth\":[{\"colorbar\":{\"outlinewidth\":0,\"ticks\":\"\"},\"type\":\"choropleth\"}],\"contour\":[{\"colorbar\":{\"outlinewidth\":0,\"ticks\":\"\"},\"colorscale\":[[0.0,\"#0d0887\"],[0.1111111111111111,\"#46039f\"],[0.2222222222222222,\"#7201a8\"],[0.3333333333333333,\"#9c179e\"],[0.4444444444444444,\"#bd3786\"],[0.5555555555555556,\"#d8576b\"],[0.6666666666666666,\"#ed7953\"],[0.7777777777777778,\"#fb9f3a\"],[0.8888888888888888,\"#fdca26\"],[1.0,\"#f0f921\"]],\"type\":\"contour\"}],\"contourcarpet\":[{\"colorbar\":{\"outlinewidth\":0,\"ticks\":\"\"},\"type\":\"contourcarpet\"}],\"heatmap\":[{\"colorbar\":{\"outlinewidth\":0,\"ticks\":\"\"},\"colorscale\":[[0.0,\"#0d0887\"],[0.1111111111111111,\"#46039f\"],[0.2222222222222222,\"#7201a8\"],[0.3333333333333333,\"#9c179e\"],[0.4444444444444444,\"#bd3786\"],[0.5555555555555556,\"#d8576b\"],[0.6666666666666666,\"#ed7953\"],[0.7777777777777778,\"#fb9f3a\"],[0.8888888888888888,\"#fdca26\"],[1.0,\"#f0f921\"]],\"type\":\"heatmap\"}],\"heatmapgl\":[{\"colorbar\":{\"outlinewidth\":0,\"ticks\":\"\"},\"colorscale\":[[0.0,\"#0d0887\"],[0.1111111111111111,\"#46039f\"],[0.2222222222222222,\"#7201a8\"],[0.3333333333333333,\"#9c179e\"],[0.4444444444444444,\"#bd3786\"],[0.5555555555555556,\"#d8576b\"],[0.6666666666666666,\"#ed7953\"],[0.7777777777777778,\"#fb9f3a\"],[0.8888888888888888,\"#fdca26\"],[1.0,\"#f0f921\"]],\"type\":\"heatmapgl\"}],\"histogram\":[{\"marker\":{\"pattern\":{\"fillmode\":\"overlay\",\"size\":10,\"solidity\":0.2}},\"type\":\"histogram\"}],\"histogram2d\":[{\"colorbar\":{\"outlinewidth\":0,\"ticks\":\"\"},\"colorscale\":[[0.0,\"#0d0887\"],[0.1111111111111111,\"#46039f\"],[0.2222222222222222,\"#7201a8\"],[0.3333333333333333,\"#9c179e\"],[0.4444444444444444,\"#bd3786\"],[0.5555555555555556,\"#d8576b\"],[0.6666666666666666,\"#ed7953\"],[0.7777777777777778,\"#fb9f3a\"],[0.8888888888888888,\"#fdca26\"],[1.0,\"#f0f921\"]],\"type\":\"histogram2d\"}],\"histogram2dcontour\":[{\"colorbar\":{\"outlinewidth\":0,\"ticks\":\"\"},\"colorscale\":[[0.0,\"#0d0887\"],[0.1111111111111111,\"#46039f\"],[0.2222222222222222,\"#7201a8\"],[0.3333333333333333,\"#9c179e\"],[0.4444444444444444,\"#bd3786\"],[0.5555555555555556,\"#d8576b\"],[0.6666666666666666,\"#ed7953\"],[0.7777777777777778,\"#fb9f3a\"],[0.8888888888888888,\"#fdca26\"],[1.0,\"#f0f921\"]],\"type\":\"histogram2dcontour\"}],\"mesh3d\":[{\"colorbar\":{\"outlinewidth\":0,\"ticks\":\"\"},\"type\":\"mesh3d\"}],\"parcoords\":[{\"line\":{\"colorbar\":{\"outlinewidth\":0,\"ticks\":\"\"}},\"type\":\"parcoords\"}],\"pie\":[{\"automargin\":true,\"type\":\"pie\"}],\"scatter\":[{\"marker\":{\"colorbar\":{\"outlinewidth\":0,\"ticks\":\"\"}},\"type\":\"scatter\"}],\"scatter3d\":[{\"line\":{\"colorbar\":{\"outlinewidth\":0,\"ticks\":\"\"}},\"marker\":{\"colorbar\":{\"outlinewidth\":0,\"ticks\":\"\"}},\"type\":\"scatter3d\"}],\"scattercarpet\":[{\"marker\":{\"colorbar\":{\"outlinewidth\":0,\"ticks\":\"\"}},\"type\":\"scattercarpet\"}],\"scattergeo\":[{\"marker\":{\"colorbar\":{\"outlinewidth\":0,\"ticks\":\"\"}},\"type\":\"scattergeo\"}],\"scattergl\":[{\"marker\":{\"colorbar\":{\"outlinewidth\":0,\"ticks\":\"\"}},\"type\":\"scattergl\"}],\"scattermapbox\":[{\"marker\":{\"colorbar\":{\"outlinewidth\":0,\"ticks\":\"\"}},\"type\":\"scattermapbox\"}],\"scatterpolar\":[{\"marker\":{\"colorbar\":{\"outlinewidth\":0,\"ticks\":\"\"}},\"type\":\"scatterpolar\"}],\"scatterpolargl\":[{\"marker\":{\"colorbar\":{\"outlinewidth\":0,\"ticks\":\"\"}},\"type\":\"scatterpolargl\"}],\"scatterternary\":[{\"marker\":{\"colorbar\":{\"outlinewidth\":0,\"ticks\":\"\"}},\"type\":\"scatterternary\"}],\"surface\":[{\"colorbar\":{\"outlinewidth\":0,\"ticks\":\"\"},\"colorscale\":[[0.0,\"#0d0887\"],[0.1111111111111111,\"#46039f\"],[0.2222222222222222,\"#7201a8\"],[0.3333333333333333,\"#9c179e\"],[0.4444444444444444,\"#bd3786\"],[0.5555555555555556,\"#d8576b\"],[0.6666666666666666,\"#ed7953\"],[0.7777777777777778,\"#fb9f3a\"],[0.8888888888888888,\"#fdca26\"],[1.0,\"#f0f921\"]],\"type\":\"surface\"}],\"table\":[{\"cells\":{\"fill\":{\"color\":\"#EBF0F8\"},\"line\":{\"color\":\"white\"}},\"header\":{\"fill\":{\"color\":\"#C8D4E3\"},\"line\":{\"color\":\"white\"}},\"type\":\"table\"}]},\"layout\":{\"annotationdefaults\":{\"arrowcolor\":\"#2a3f5f\",\"arrowhead\":0,\"arrowwidth\":1},\"autotypenumbers\":\"strict\",\"coloraxis\":{\"colorbar\":{\"outlinewidth\":0,\"ticks\":\"\"}},\"colorscale\":{\"diverging\":[[0,\"#8e0152\"],[0.1,\"#c51b7d\"],[0.2,\"#de77ae\"],[0.3,\"#f1b6da\"],[0.4,\"#fde0ef\"],[0.5,\"#f7f7f7\"],[0.6,\"#e6f5d0\"],[0.7,\"#b8e186\"],[0.8,\"#7fbc41\"],[0.9,\"#4d9221\"],[1,\"#276419\"]],\"sequential\":[[0.0,\"#0d0887\"],[0.1111111111111111,\"#46039f\"],[0.2222222222222222,\"#7201a8\"],[0.3333333333333333,\"#9c179e\"],[0.4444444444444444,\"#bd3786\"],[0.5555555555555556,\"#d8576b\"],[0.6666666666666666,\"#ed7953\"],[0.7777777777777778,\"#fb9f3a\"],[0.8888888888888888,\"#fdca26\"],[1.0,\"#f0f921\"]],\"sequentialminus\":[[0.0,\"#0d0887\"],[0.1111111111111111,\"#46039f\"],[0.2222222222222222,\"#7201a8\"],[0.3333333333333333,\"#9c179e\"],[0.4444444444444444,\"#bd3786\"],[0.5555555555555556,\"#d8576b\"],[0.6666666666666666,\"#ed7953\"],[0.7777777777777778,\"#fb9f3a\"],[0.8888888888888888,\"#fdca26\"],[1.0,\"#f0f921\"]]},\"colorway\":[\"#636efa\",\"#EF553B\",\"#00cc96\",\"#ab63fa\",\"#FFA15A\",\"#19d3f3\",\"#FF6692\",\"#B6E880\",\"#FF97FF\",\"#FECB52\"],\"font\":{\"color\":\"#2a3f5f\"},\"geo\":{\"bgcolor\":\"white\",\"lakecolor\":\"white\",\"landcolor\":\"#E5ECF6\",\"showlakes\":true,\"showland\":true,\"subunitcolor\":\"white\"},\"hoverlabel\":{\"align\":\"left\"},\"hovermode\":\"closest\",\"mapbox\":{\"style\":\"light\"},\"paper_bgcolor\":\"white\",\"plot_bgcolor\":\"#E5ECF6\",\"polar\":{\"angularaxis\":{\"gridcolor\":\"white\",\"linecolor\":\"white\",\"ticks\":\"\"},\"bgcolor\":\"#E5ECF6\",\"radialaxis\":{\"gridcolor\":\"white\",\"linecolor\":\"white\",\"ticks\":\"\"}},\"scene\":{\"xaxis\":{\"backgroundcolor\":\"#E5ECF6\",\"gridcolor\":\"white\",\"gridwidth\":2,\"linecolor\":\"white\",\"showbackground\":true,\"ticks\":\"\",\"zerolinecolor\":\"white\"},\"yaxis\":{\"backgroundcolor\":\"#E5ECF6\",\"gridcolor\":\"white\",\"gridwidth\":2,\"linecolor\":\"white\",\"showbackground\":true,\"ticks\":\"\",\"zerolinecolor\":\"white\"},\"zaxis\":{\"backgroundcolor\":\"#E5ECF6\",\"gridcolor\":\"white\",\"gridwidth\":2,\"linecolor\":\"white\",\"showbackground\":true,\"ticks\":\"\",\"zerolinecolor\":\"white\"}},\"shapedefaults\":{\"line\":{\"color\":\"#2a3f5f\"}},\"ternary\":{\"aaxis\":{\"gridcolor\":\"white\",\"linecolor\":\"white\",\"ticks\":\"\"},\"baxis\":{\"gridcolor\":\"white\",\"linecolor\":\"white\",\"ticks\":\"\"},\"bgcolor\":\"#E5ECF6\",\"caxis\":{\"gridcolor\":\"white\",\"linecolor\":\"white\",\"ticks\":\"\"}},\"title\":{\"x\":0.05},\"xaxis\":{\"automargin\":true,\"gridcolor\":\"white\",\"linecolor\":\"white\",\"ticks\":\"\",\"title\":{\"standoff\":15},\"zerolinecolor\":\"white\",\"zerolinewidth\":2},\"yaxis\":{\"automargin\":true,\"gridcolor\":\"white\",\"linecolor\":\"white\",\"ticks\":\"\",\"title\":{\"standoff\":15},\"zerolinecolor\":\"white\",\"zerolinewidth\":2}}}},                        {\"responsive\": true}                    ).then(function(){\n                            \nvar gd = document.getElementById('36daae7f-4c99-4a96-8545-4d09765e1463');\nvar x = new MutationObserver(function (mutations, observer) {{\n        var display = window.getComputedStyle(gd).display;\n        if (!display || display === 'none') {{\n            console.log([gd, 'removed!']);\n            Plotly.purge(gd);\n            observer.disconnect();\n        }}\n}});\n\n// Listen for the removal of the full notebook cells\nvar notebookContainer = gd.closest('#notebook-container');\nif (notebookContainer) {{\n    x.observe(notebookContainer, {childList: true});\n}}\n\n// Listen for the clearing of the current output cell\nvar outputEl = gd.closest('.output');\nif (outputEl) {{\n    x.observe(outputEl, {childList: true});\n}}\n\n                        })                };                });            </script>        </div>"
     },
     "metadata": {},
     "output_type": "display_data"
    }
   ],
   "source": [
    "\n",
    "def draw_error_plot(df):\n",
    "    fig = go.Figure()\n",
    "    fig.add_trace(\n",
    "        go.Scatter(\n",
    "            x=g_semple['hour'],\n",
    "            y=g_semple['yeild']\n",
    "        )\n",
    "    )\n",
    "    fig.add_trace(\n",
    "        go.Bar(\n",
    "            x=g_semple['hour'],\n",
    "            y=g_semple['error_shortage']\n",
    "        )\n",
    "    )\n",
    "    fig.add_trace(\n",
    "        go.Bar(\n",
    "            x=g_semple['hour'],\n",
    "            y=g_semple['error_excess']\n",
    "        )\n",
    "    )\n",
    "    return fig\n"
   ],
   "metadata": {
    "collapsed": false,
    "pycharm": {
     "name": "#%%\n"
    }
   }
  }
 ],
 "metadata": {
  "kernelspec": {
   "display_name": "Python 3",
   "language": "python",
   "name": "python3"
  },
  "language_info": {
   "codemirror_mode": {
    "name": "ipython",
    "version": 2
   },
   "file_extension": ".py",
   "mimetype": "text/x-python",
   "name": "python",
   "nbconvert_exporter": "python",
   "pygments_lexer": "ipython2",
   "version": "2.7.6"
  }
 },
 "nbformat": 4,
 "nbformat_minor": 0
}