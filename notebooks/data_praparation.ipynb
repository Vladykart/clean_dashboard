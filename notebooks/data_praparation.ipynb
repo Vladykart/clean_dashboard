{
 "cells": [
  {
   "cell_type": "code",
   "execution_count": 1,
   "metadata": {
    "collapsed": true
   },
   "outputs": [],
   "source": [
    "import pandas as pd\n",
    "from pprint import pprint\n",
    "from settings.settings import ROOT_DIR, LOCAL_DATA_PATH"
   ]
  },
  {
   "cell_type": "code",
   "execution_count": 2,
   "outputs": [],
   "source": [
    "def read_excel_data(filename):\n",
    "    df = pd.read_excel(filename,converters= {'date': pd.to_datetime})\n",
    "        # LOCAL_DATA_PATH.joinpath(filename),\n",
    "        #                converters= {'date': pd.to_datetime})\n",
    "    return df\n",
    "\n",
    "\n",
    "def prepare_data(df):\n",
    "    df[['lat', 'long']] = list(\n",
    "        df['coordinates'].str.replace(r'[()]', '', regex=True).str.split(','))\n",
    "    df = df.drop(['coordinates'], axis=1)\n",
    "    df[['lat', 'long']] = df[['lat', 'long']].astype('float64')\n",
    "    lowercase = lambda x: str(x).lower()\n",
    "    df.rename(lowercase, axis='columns', inplace=True)\n",
    "    df['region'] = df['region'].apply(lowercase)\n",
    "    return df\n",
    "\n",
    "\n",
    "def group_data(df):\n",
    "    return df.groupby(by=['region', 'site', 'date'])\n",
    "\n"
   ],
   "metadata": {
    "collapsed": false,
    "pycharm": {
     "name": "#%%\n"
    }
   }
  },
  {
   "cell_type": "code",
   "execution_count": 6,
   "outputs": [],
   "source": [
    "data = read_excel_data(LOCAL_DATA_PATH.joinpath('mart_operative_forecasting_results.xlsx'))\n",
    "data = prepare_data(data)\n",
    "grouped_data = group_data(data)\n"
   ],
   "metadata": {
    "collapsed": false,
    "pycharm": {
     "name": "#%%\n"
    }
   }
  },
  {
   "cell_type": "code",
   "execution_count": 10,
   "outputs": [
    {
     "data": {
      "text/plain": "              site     region  cluster       date  hour  yeild  forecast  \\\n0       Yelanets-2  mykolayiv       10 2022-01-01     1  -15.0       -14   \n1       Yelanets-2  mykolayiv       10 2022-01-01     2  -14.0       -14   \n2       Yelanets-2  mykolayiv       10 2022-01-01     3  -14.0       -14   \n3       Yelanets-2  mykolayiv       10 2022-01-01     4  -14.0       -14   \n4       Yelanets-2  mykolayiv       10 2022-01-01     5  -14.0       -14   \n...            ...        ...      ...        ...   ...    ...       ...   \n14659  Afanasiivka  mykolayiv       11 2022-01-13    20    NaN       -33   \n14660  Afanasiivka  mykolayiv       11 2022-01-13    21    NaN       -33   \n14661  Afanasiivka  mykolayiv       11 2022-01-13    22    NaN       -33   \n14662  Afanasiivka  mykolayiv       11 2022-01-13    23    NaN       -33   \n14663  Afanasiivka  mykolayiv       11 2022-01-13    24    NaN       -33   \n\n       error       lat      long  \n0         -1  47.70700  31.84680  \n1          0  47.70700  31.84680  \n2          0  47.70700  31.84680  \n3          0  47.70700  31.84680  \n4          0  47.70700  31.84680  \n...      ...       ...       ...  \n14659     33  47.00201  32.82572  \n14660     33  47.00201  32.82572  \n14661     33  47.00201  32.82572  \n14662     33  47.00201  32.82572  \n14663     33  47.00201  32.82572  \n\n[14664 rows x 10 columns]",
      "text/html": "<div>\n<style scoped>\n    .dataframe tbody tr th:only-of-type {\n        vertical-align: middle;\n    }\n\n    .dataframe tbody tr th {\n        vertical-align: top;\n    }\n\n    .dataframe thead th {\n        text-align: right;\n    }\n</style>\n<table border=\"1\" class=\"dataframe\">\n  <thead>\n    <tr style=\"text-align: right;\">\n      <th></th>\n      <th>site</th>\n      <th>region</th>\n      <th>cluster</th>\n      <th>date</th>\n      <th>hour</th>\n      <th>yeild</th>\n      <th>forecast</th>\n      <th>error</th>\n      <th>lat</th>\n      <th>long</th>\n    </tr>\n  </thead>\n  <tbody>\n    <tr>\n      <th>0</th>\n      <td>Yelanets-2</td>\n      <td>mykolayiv</td>\n      <td>10</td>\n      <td>2022-01-01</td>\n      <td>1</td>\n      <td>-15.0</td>\n      <td>-14</td>\n      <td>-1</td>\n      <td>47.70700</td>\n      <td>31.84680</td>\n    </tr>\n    <tr>\n      <th>1</th>\n      <td>Yelanets-2</td>\n      <td>mykolayiv</td>\n      <td>10</td>\n      <td>2022-01-01</td>\n      <td>2</td>\n      <td>-14.0</td>\n      <td>-14</td>\n      <td>0</td>\n      <td>47.70700</td>\n      <td>31.84680</td>\n    </tr>\n    <tr>\n      <th>2</th>\n      <td>Yelanets-2</td>\n      <td>mykolayiv</td>\n      <td>10</td>\n      <td>2022-01-01</td>\n      <td>3</td>\n      <td>-14.0</td>\n      <td>-14</td>\n      <td>0</td>\n      <td>47.70700</td>\n      <td>31.84680</td>\n    </tr>\n    <tr>\n      <th>3</th>\n      <td>Yelanets-2</td>\n      <td>mykolayiv</td>\n      <td>10</td>\n      <td>2022-01-01</td>\n      <td>4</td>\n      <td>-14.0</td>\n      <td>-14</td>\n      <td>0</td>\n      <td>47.70700</td>\n      <td>31.84680</td>\n    </tr>\n    <tr>\n      <th>4</th>\n      <td>Yelanets-2</td>\n      <td>mykolayiv</td>\n      <td>10</td>\n      <td>2022-01-01</td>\n      <td>5</td>\n      <td>-14.0</td>\n      <td>-14</td>\n      <td>0</td>\n      <td>47.70700</td>\n      <td>31.84680</td>\n    </tr>\n    <tr>\n      <th>...</th>\n      <td>...</td>\n      <td>...</td>\n      <td>...</td>\n      <td>...</td>\n      <td>...</td>\n      <td>...</td>\n      <td>...</td>\n      <td>...</td>\n      <td>...</td>\n      <td>...</td>\n    </tr>\n    <tr>\n      <th>14659</th>\n      <td>Afanasiivka</td>\n      <td>mykolayiv</td>\n      <td>11</td>\n      <td>2022-01-13</td>\n      <td>20</td>\n      <td>NaN</td>\n      <td>-33</td>\n      <td>33</td>\n      <td>47.00201</td>\n      <td>32.82572</td>\n    </tr>\n    <tr>\n      <th>14660</th>\n      <td>Afanasiivka</td>\n      <td>mykolayiv</td>\n      <td>11</td>\n      <td>2022-01-13</td>\n      <td>21</td>\n      <td>NaN</td>\n      <td>-33</td>\n      <td>33</td>\n      <td>47.00201</td>\n      <td>32.82572</td>\n    </tr>\n    <tr>\n      <th>14661</th>\n      <td>Afanasiivka</td>\n      <td>mykolayiv</td>\n      <td>11</td>\n      <td>2022-01-13</td>\n      <td>22</td>\n      <td>NaN</td>\n      <td>-33</td>\n      <td>33</td>\n      <td>47.00201</td>\n      <td>32.82572</td>\n    </tr>\n    <tr>\n      <th>14662</th>\n      <td>Afanasiivka</td>\n      <td>mykolayiv</td>\n      <td>11</td>\n      <td>2022-01-13</td>\n      <td>23</td>\n      <td>NaN</td>\n      <td>-33</td>\n      <td>33</td>\n      <td>47.00201</td>\n      <td>32.82572</td>\n    </tr>\n    <tr>\n      <th>14663</th>\n      <td>Afanasiivka</td>\n      <td>mykolayiv</td>\n      <td>11</td>\n      <td>2022-01-13</td>\n      <td>24</td>\n      <td>NaN</td>\n      <td>-33</td>\n      <td>33</td>\n      <td>47.00201</td>\n      <td>32.82572</td>\n    </tr>\n  </tbody>\n</table>\n<p>14664 rows × 10 columns</p>\n</div>"
     },
     "execution_count": 10,
     "metadata": {},
     "output_type": "execute_result"
    }
   ],
   "source": [
    "data"
   ],
   "metadata": {
    "collapsed": false,
    "pycharm": {
     "name": "#%%\n"
    }
   }
  },
  {
   "cell_type": "code",
   "execution_count": 32,
   "outputs": [
    {
     "data": {
      "text/plain": "                          yeild       lat      long\nsite        date                                   \nAfanasiivka 2022-01-01   2805.0  47.00201  32.82572\n            2022-01-02  26159.0  47.00201  32.82572\n            2022-01-03   7026.0  47.00201  32.82572\n            2022-01-04  34985.0  47.00201  32.82572\n            2022-01-05  27554.0  47.00201  32.82572\n...                         ...       ...       ...\nYelanets-2  2022-01-09    694.0  47.70700  31.84680\n            2022-01-10   2054.0  47.70700  31.84680\n            2022-01-11      0.0  47.70700  31.84680\n            2022-01-12      0.0  47.70700  31.84680\n            2022-01-13      0.0  47.70700  31.84680\n\n[611 rows x 3 columns]",
      "text/html": "<div>\n<style scoped>\n    .dataframe tbody tr th:only-of-type {\n        vertical-align: middle;\n    }\n\n    .dataframe tbody tr th {\n        vertical-align: top;\n    }\n\n    .dataframe thead th {\n        text-align: right;\n    }\n</style>\n<table border=\"1\" class=\"dataframe\">\n  <thead>\n    <tr style=\"text-align: right;\">\n      <th></th>\n      <th></th>\n      <th>yeild</th>\n      <th>lat</th>\n      <th>long</th>\n    </tr>\n    <tr>\n      <th>site</th>\n      <th>date</th>\n      <th></th>\n      <th></th>\n      <th></th>\n    </tr>\n  </thead>\n  <tbody>\n    <tr>\n      <th rowspan=\"5\" valign=\"top\">Afanasiivka</th>\n      <th>2022-01-01</th>\n      <td>2805.0</td>\n      <td>47.00201</td>\n      <td>32.82572</td>\n    </tr>\n    <tr>\n      <th>2022-01-02</th>\n      <td>26159.0</td>\n      <td>47.00201</td>\n      <td>32.82572</td>\n    </tr>\n    <tr>\n      <th>2022-01-03</th>\n      <td>7026.0</td>\n      <td>47.00201</td>\n      <td>32.82572</td>\n    </tr>\n    <tr>\n      <th>2022-01-04</th>\n      <td>34985.0</td>\n      <td>47.00201</td>\n      <td>32.82572</td>\n    </tr>\n    <tr>\n      <th>2022-01-05</th>\n      <td>27554.0</td>\n      <td>47.00201</td>\n      <td>32.82572</td>\n    </tr>\n    <tr>\n      <th>...</th>\n      <th>...</th>\n      <td>...</td>\n      <td>...</td>\n      <td>...</td>\n    </tr>\n    <tr>\n      <th rowspan=\"5\" valign=\"top\">Yelanets-2</th>\n      <th>2022-01-09</th>\n      <td>694.0</td>\n      <td>47.70700</td>\n      <td>31.84680</td>\n    </tr>\n    <tr>\n      <th>2022-01-10</th>\n      <td>2054.0</td>\n      <td>47.70700</td>\n      <td>31.84680</td>\n    </tr>\n    <tr>\n      <th>2022-01-11</th>\n      <td>0.0</td>\n      <td>47.70700</td>\n      <td>31.84680</td>\n    </tr>\n    <tr>\n      <th>2022-01-12</th>\n      <td>0.0</td>\n      <td>47.70700</td>\n      <td>31.84680</td>\n    </tr>\n    <tr>\n      <th>2022-01-13</th>\n      <td>0.0</td>\n      <td>47.70700</td>\n      <td>31.84680</td>\n    </tr>\n  </tbody>\n</table>\n<p>611 rows × 3 columns</p>\n</div>"
     },
     "execution_count": 32,
     "metadata": {},
     "output_type": "execute_result"
    }
   ],
   "source": [
    "\n",
    "map_data = data.groupby(by =['site', 'date']).agg({'yeild':'sum', 'lat':'first', 'long':'first'})\n",
    "map_data"
   ],
   "metadata": {
    "collapsed": false,
    "pycharm": {
     "name": "#%%\n"
    }
   }
  },
  {
   "cell_type": "code",
   "execution_count": 33,
   "outputs": [
    {
     "data": {
      "text/plain": "            site       date    yeild       lat      long\n0    Afanasiivka 2022-01-01   2805.0  47.00201  32.82572\n1    Afanasiivka 2022-01-02  26159.0  47.00201  32.82572\n2    Afanasiivka 2022-01-03   7026.0  47.00201  32.82572\n3    Afanasiivka 2022-01-04  34985.0  47.00201  32.82572\n4    Afanasiivka 2022-01-05  27554.0  47.00201  32.82572\n..           ...        ...      ...       ...       ...\n606   Yelanets-2 2022-01-09    694.0  47.70700  31.84680\n607   Yelanets-2 2022-01-10   2054.0  47.70700  31.84680\n608   Yelanets-2 2022-01-11      0.0  47.70700  31.84680\n609   Yelanets-2 2022-01-12      0.0  47.70700  31.84680\n610   Yelanets-2 2022-01-13      0.0  47.70700  31.84680\n\n[611 rows x 5 columns]",
      "text/html": "<div>\n<style scoped>\n    .dataframe tbody tr th:only-of-type {\n        vertical-align: middle;\n    }\n\n    .dataframe tbody tr th {\n        vertical-align: top;\n    }\n\n    .dataframe thead th {\n        text-align: right;\n    }\n</style>\n<table border=\"1\" class=\"dataframe\">\n  <thead>\n    <tr style=\"text-align: right;\">\n      <th></th>\n      <th>site</th>\n      <th>date</th>\n      <th>yeild</th>\n      <th>lat</th>\n      <th>long</th>\n    </tr>\n  </thead>\n  <tbody>\n    <tr>\n      <th>0</th>\n      <td>Afanasiivka</td>\n      <td>2022-01-01</td>\n      <td>2805.0</td>\n      <td>47.00201</td>\n      <td>32.82572</td>\n    </tr>\n    <tr>\n      <th>1</th>\n      <td>Afanasiivka</td>\n      <td>2022-01-02</td>\n      <td>26159.0</td>\n      <td>47.00201</td>\n      <td>32.82572</td>\n    </tr>\n    <tr>\n      <th>2</th>\n      <td>Afanasiivka</td>\n      <td>2022-01-03</td>\n      <td>7026.0</td>\n      <td>47.00201</td>\n      <td>32.82572</td>\n    </tr>\n    <tr>\n      <th>3</th>\n      <td>Afanasiivka</td>\n      <td>2022-01-04</td>\n      <td>34985.0</td>\n      <td>47.00201</td>\n      <td>32.82572</td>\n    </tr>\n    <tr>\n      <th>4</th>\n      <td>Afanasiivka</td>\n      <td>2022-01-05</td>\n      <td>27554.0</td>\n      <td>47.00201</td>\n      <td>32.82572</td>\n    </tr>\n    <tr>\n      <th>...</th>\n      <td>...</td>\n      <td>...</td>\n      <td>...</td>\n      <td>...</td>\n      <td>...</td>\n    </tr>\n    <tr>\n      <th>606</th>\n      <td>Yelanets-2</td>\n      <td>2022-01-09</td>\n      <td>694.0</td>\n      <td>47.70700</td>\n      <td>31.84680</td>\n    </tr>\n    <tr>\n      <th>607</th>\n      <td>Yelanets-2</td>\n      <td>2022-01-10</td>\n      <td>2054.0</td>\n      <td>47.70700</td>\n      <td>31.84680</td>\n    </tr>\n    <tr>\n      <th>608</th>\n      <td>Yelanets-2</td>\n      <td>2022-01-11</td>\n      <td>0.0</td>\n      <td>47.70700</td>\n      <td>31.84680</td>\n    </tr>\n    <tr>\n      <th>609</th>\n      <td>Yelanets-2</td>\n      <td>2022-01-12</td>\n      <td>0.0</td>\n      <td>47.70700</td>\n      <td>31.84680</td>\n    </tr>\n    <tr>\n      <th>610</th>\n      <td>Yelanets-2</td>\n      <td>2022-01-13</td>\n      <td>0.0</td>\n      <td>47.70700</td>\n      <td>31.84680</td>\n    </tr>\n  </tbody>\n</table>\n<p>611 rows × 5 columns</p>\n</div>"
     },
     "execution_count": 33,
     "metadata": {},
     "output_type": "execute_result"
    }
   ],
   "source": [
    "map_data.reset_index()"
   ],
   "metadata": {
    "collapsed": false,
    "pycharm": {
     "name": "#%%\n"
    }
   }
  },
  {
   "cell_type": "code",
   "execution_count": 39,
   "outputs": [
    {
     "data": {
      "text/plain": "datetime.date(2022, 1, 1)"
     },
     "execution_count": 39,
     "metadata": {},
     "output_type": "execute_result"
    }
   ],
   "source": [
    "data['date'].min().date()"
   ],
   "metadata": {
    "collapsed": false,
    "pycharm": {
     "name": "#%%\n"
    }
   }
  },
  {
   "cell_type": "code",
   "execution_count": null,
   "outputs": [],
   "source": [],
   "metadata": {
    "collapsed": false,
    "pycharm": {
     "name": "#%%\n"
    }
   }
  },
  {
   "cell_type": "code",
   "execution_count": 103,
   "outputs": [
    {
     "data": {
      "text/plain": "          site  region  cluster       date  hour   yeild  forecast  error  \\\n14136  Balivka  dnipro       13 2022-01-05     1   -27.0       -44     17   \n14137  Balivka  dnipro       13 2022-01-05     2   -55.0       -44    -11   \n14138  Balivka  dnipro       13 2022-01-05     3   -28.0       -44     16   \n14139  Balivka  dnipro       13 2022-01-05     4   -54.0       -44    -10   \n14140  Balivka  dnipro       13 2022-01-05     5   -28.0       -44     16   \n14141  Balivka  dnipro       13 2022-01-05     6   -54.0       -44    -10   \n14142  Balivka  dnipro       13 2022-01-05     7   -28.0       -44     16   \n14143  Balivka  dnipro       13 2022-01-05     8   -55.0       -44    -11   \n14144  Balivka  dnipro       13 2022-01-05     9   210.0       126     84   \n14145  Balivka  dnipro       13 2022-01-05    10   399.0       588   -189   \n14146  Balivka  dnipro       13 2022-01-05    11  1386.0      1258    128   \n14147  Balivka  dnipro       13 2022-01-05    12  1617.0      2652  -1035   \n14148  Balivka  dnipro       13 2022-01-05    13  1617.0      2992  -1375   \n14149  Balivka  dnipro       13 2022-01-05    14  1092.0      2421  -1329   \n14150  Balivka  dnipro       13 2022-01-05    15   672.0      1422   -750   \n14151  Balivka  dnipro       13 2022-01-05    16   231.0       173     58   \n14152  Balivka  dnipro       13 2022-01-05    17   -54.0       -44    -10   \n14153  Balivka  dnipro       13 2022-01-05    18   -28.0       -44     16   \n14154  Balivka  dnipro       13 2022-01-05    19   -27.0       -44     17   \n14155  Balivka  dnipro       13 2022-01-05    20   -55.0       -44    -11   \n14156  Balivka  dnipro       13 2022-01-05    21   -27.0       -44     17   \n14157  Balivka  dnipro       13 2022-01-05    22   -55.0       -44    -11   \n14158  Balivka  dnipro       13 2022-01-05    23   -27.0       -44     17   \n14159  Balivka  dnipro       13 2022-01-05    24   -28.0       -44     16   \n\n            lat      long  \n14136  48.59656  34.74867  \n14137  48.59656  34.74867  \n14138  48.59656  34.74867  \n14139  48.59656  34.74867  \n14140  48.59656  34.74867  \n14141  48.59656  34.74867  \n14142  48.59656  34.74867  \n14143  48.59656  34.74867  \n14144  48.59656  34.74867  \n14145  48.59656  34.74867  \n14146  48.59656  34.74867  \n14147  48.59656  34.74867  \n14148  48.59656  34.74867  \n14149  48.59656  34.74867  \n14150  48.59656  34.74867  \n14151  48.59656  34.74867  \n14152  48.59656  34.74867  \n14153  48.59656  34.74867  \n14154  48.59656  34.74867  \n14155  48.59656  34.74867  \n14156  48.59656  34.74867  \n14157  48.59656  34.74867  \n14158  48.59656  34.74867  \n14159  48.59656  34.74867  ",
      "text/html": "<div>\n<style scoped>\n    .dataframe tbody tr th:only-of-type {\n        vertical-align: middle;\n    }\n\n    .dataframe tbody tr th {\n        vertical-align: top;\n    }\n\n    .dataframe thead th {\n        text-align: right;\n    }\n</style>\n<table border=\"1\" class=\"dataframe\">\n  <thead>\n    <tr style=\"text-align: right;\">\n      <th></th>\n      <th>site</th>\n      <th>region</th>\n      <th>cluster</th>\n      <th>date</th>\n      <th>hour</th>\n      <th>yeild</th>\n      <th>forecast</th>\n      <th>error</th>\n      <th>lat</th>\n      <th>long</th>\n    </tr>\n  </thead>\n  <tbody>\n    <tr>\n      <th>14136</th>\n      <td>Balivka</td>\n      <td>dnipro</td>\n      <td>13</td>\n      <td>2022-01-05</td>\n      <td>1</td>\n      <td>-27.0</td>\n      <td>-44</td>\n      <td>17</td>\n      <td>48.59656</td>\n      <td>34.74867</td>\n    </tr>\n    <tr>\n      <th>14137</th>\n      <td>Balivka</td>\n      <td>dnipro</td>\n      <td>13</td>\n      <td>2022-01-05</td>\n      <td>2</td>\n      <td>-55.0</td>\n      <td>-44</td>\n      <td>-11</td>\n      <td>48.59656</td>\n      <td>34.74867</td>\n    </tr>\n    <tr>\n      <th>14138</th>\n      <td>Balivka</td>\n      <td>dnipro</td>\n      <td>13</td>\n      <td>2022-01-05</td>\n      <td>3</td>\n      <td>-28.0</td>\n      <td>-44</td>\n      <td>16</td>\n      <td>48.59656</td>\n      <td>34.74867</td>\n    </tr>\n    <tr>\n      <th>14139</th>\n      <td>Balivka</td>\n      <td>dnipro</td>\n      <td>13</td>\n      <td>2022-01-05</td>\n      <td>4</td>\n      <td>-54.0</td>\n      <td>-44</td>\n      <td>-10</td>\n      <td>48.59656</td>\n      <td>34.74867</td>\n    </tr>\n    <tr>\n      <th>14140</th>\n      <td>Balivka</td>\n      <td>dnipro</td>\n      <td>13</td>\n      <td>2022-01-05</td>\n      <td>5</td>\n      <td>-28.0</td>\n      <td>-44</td>\n      <td>16</td>\n      <td>48.59656</td>\n      <td>34.74867</td>\n    </tr>\n    <tr>\n      <th>14141</th>\n      <td>Balivka</td>\n      <td>dnipro</td>\n      <td>13</td>\n      <td>2022-01-05</td>\n      <td>6</td>\n      <td>-54.0</td>\n      <td>-44</td>\n      <td>-10</td>\n      <td>48.59656</td>\n      <td>34.74867</td>\n    </tr>\n    <tr>\n      <th>14142</th>\n      <td>Balivka</td>\n      <td>dnipro</td>\n      <td>13</td>\n      <td>2022-01-05</td>\n      <td>7</td>\n      <td>-28.0</td>\n      <td>-44</td>\n      <td>16</td>\n      <td>48.59656</td>\n      <td>34.74867</td>\n    </tr>\n    <tr>\n      <th>14143</th>\n      <td>Balivka</td>\n      <td>dnipro</td>\n      <td>13</td>\n      <td>2022-01-05</td>\n      <td>8</td>\n      <td>-55.0</td>\n      <td>-44</td>\n      <td>-11</td>\n      <td>48.59656</td>\n      <td>34.74867</td>\n    </tr>\n    <tr>\n      <th>14144</th>\n      <td>Balivka</td>\n      <td>dnipro</td>\n      <td>13</td>\n      <td>2022-01-05</td>\n      <td>9</td>\n      <td>210.0</td>\n      <td>126</td>\n      <td>84</td>\n      <td>48.59656</td>\n      <td>34.74867</td>\n    </tr>\n    <tr>\n      <th>14145</th>\n      <td>Balivka</td>\n      <td>dnipro</td>\n      <td>13</td>\n      <td>2022-01-05</td>\n      <td>10</td>\n      <td>399.0</td>\n      <td>588</td>\n      <td>-189</td>\n      <td>48.59656</td>\n      <td>34.74867</td>\n    </tr>\n    <tr>\n      <th>14146</th>\n      <td>Balivka</td>\n      <td>dnipro</td>\n      <td>13</td>\n      <td>2022-01-05</td>\n      <td>11</td>\n      <td>1386.0</td>\n      <td>1258</td>\n      <td>128</td>\n      <td>48.59656</td>\n      <td>34.74867</td>\n    </tr>\n    <tr>\n      <th>14147</th>\n      <td>Balivka</td>\n      <td>dnipro</td>\n      <td>13</td>\n      <td>2022-01-05</td>\n      <td>12</td>\n      <td>1617.0</td>\n      <td>2652</td>\n      <td>-1035</td>\n      <td>48.59656</td>\n      <td>34.74867</td>\n    </tr>\n    <tr>\n      <th>14148</th>\n      <td>Balivka</td>\n      <td>dnipro</td>\n      <td>13</td>\n      <td>2022-01-05</td>\n      <td>13</td>\n      <td>1617.0</td>\n      <td>2992</td>\n      <td>-1375</td>\n      <td>48.59656</td>\n      <td>34.74867</td>\n    </tr>\n    <tr>\n      <th>14149</th>\n      <td>Balivka</td>\n      <td>dnipro</td>\n      <td>13</td>\n      <td>2022-01-05</td>\n      <td>14</td>\n      <td>1092.0</td>\n      <td>2421</td>\n      <td>-1329</td>\n      <td>48.59656</td>\n      <td>34.74867</td>\n    </tr>\n    <tr>\n      <th>14150</th>\n      <td>Balivka</td>\n      <td>dnipro</td>\n      <td>13</td>\n      <td>2022-01-05</td>\n      <td>15</td>\n      <td>672.0</td>\n      <td>1422</td>\n      <td>-750</td>\n      <td>48.59656</td>\n      <td>34.74867</td>\n    </tr>\n    <tr>\n      <th>14151</th>\n      <td>Balivka</td>\n      <td>dnipro</td>\n      <td>13</td>\n      <td>2022-01-05</td>\n      <td>16</td>\n      <td>231.0</td>\n      <td>173</td>\n      <td>58</td>\n      <td>48.59656</td>\n      <td>34.74867</td>\n    </tr>\n    <tr>\n      <th>14152</th>\n      <td>Balivka</td>\n      <td>dnipro</td>\n      <td>13</td>\n      <td>2022-01-05</td>\n      <td>17</td>\n      <td>-54.0</td>\n      <td>-44</td>\n      <td>-10</td>\n      <td>48.59656</td>\n      <td>34.74867</td>\n    </tr>\n    <tr>\n      <th>14153</th>\n      <td>Balivka</td>\n      <td>dnipro</td>\n      <td>13</td>\n      <td>2022-01-05</td>\n      <td>18</td>\n      <td>-28.0</td>\n      <td>-44</td>\n      <td>16</td>\n      <td>48.59656</td>\n      <td>34.74867</td>\n    </tr>\n    <tr>\n      <th>14154</th>\n      <td>Balivka</td>\n      <td>dnipro</td>\n      <td>13</td>\n      <td>2022-01-05</td>\n      <td>19</td>\n      <td>-27.0</td>\n      <td>-44</td>\n      <td>17</td>\n      <td>48.59656</td>\n      <td>34.74867</td>\n    </tr>\n    <tr>\n      <th>14155</th>\n      <td>Balivka</td>\n      <td>dnipro</td>\n      <td>13</td>\n      <td>2022-01-05</td>\n      <td>20</td>\n      <td>-55.0</td>\n      <td>-44</td>\n      <td>-11</td>\n      <td>48.59656</td>\n      <td>34.74867</td>\n    </tr>\n    <tr>\n      <th>14156</th>\n      <td>Balivka</td>\n      <td>dnipro</td>\n      <td>13</td>\n      <td>2022-01-05</td>\n      <td>21</td>\n      <td>-27.0</td>\n      <td>-44</td>\n      <td>17</td>\n      <td>48.59656</td>\n      <td>34.74867</td>\n    </tr>\n    <tr>\n      <th>14157</th>\n      <td>Balivka</td>\n      <td>dnipro</td>\n      <td>13</td>\n      <td>2022-01-05</td>\n      <td>22</td>\n      <td>-55.0</td>\n      <td>-44</td>\n      <td>-11</td>\n      <td>48.59656</td>\n      <td>34.74867</td>\n    </tr>\n    <tr>\n      <th>14158</th>\n      <td>Balivka</td>\n      <td>dnipro</td>\n      <td>13</td>\n      <td>2022-01-05</td>\n      <td>23</td>\n      <td>-27.0</td>\n      <td>-44</td>\n      <td>17</td>\n      <td>48.59656</td>\n      <td>34.74867</td>\n    </tr>\n    <tr>\n      <th>14159</th>\n      <td>Balivka</td>\n      <td>dnipro</td>\n      <td>13</td>\n      <td>2022-01-05</td>\n      <td>24</td>\n      <td>-28.0</td>\n      <td>-44</td>\n      <td>16</td>\n      <td>48.59656</td>\n      <td>34.74867</td>\n    </tr>\n  </tbody>\n</table>\n</div>"
     },
     "execution_count": 103,
     "metadata": {},
     "output_type": "execute_result"
    }
   ],
   "source": [
    "grouped_data.get_group(('dnipro', 'Balivka', '2022-01-05'))"
   ],
   "metadata": {
    "collapsed": false,
    "pycharm": {
     "name": "#%%\n"
    }
   }
  },
  {
   "cell_type": "code",
   "execution_count": 115,
   "outputs": [
    {
     "data": {
      "text/plain": "site                object\nregion              object\ncluster              int64\ndate        datetime64[ns]\nhour                 int64\nyeild              float64\nforecast             int64\nerror                int64\nlat                float64\nlong               float64\ndtype: object"
     },
     "execution_count": 115,
     "metadata": {},
     "output_type": "execute_result"
    }
   ],
   "source": [
    "data.da"
   ],
   "metadata": {
    "collapsed": false,
    "pycharm": {
     "name": "#%%\n"
    }
   }
  }
 ],
 "metadata": {
  "kernelspec": {
   "display_name": "Python 3",
   "language": "python",
   "name": "python3"
  },
  "language_info": {
   "codemirror_mode": {
    "name": "ipython",
    "version": 2
   },
   "file_extension": ".py",
   "mimetype": "text/x-python",
   "name": "python",
   "nbconvert_exporter": "python",
   "pygments_lexer": "ipython2",
   "version": "2.7.6"
  }
 },
 "nbformat": 4,
 "nbformat_minor": 0
}